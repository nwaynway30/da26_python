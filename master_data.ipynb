{
 "cells": [
  {
   "cell_type": "code",
   "execution_count": 1,
   "id": "e0c98fd9-50b9-4cd1-81fb-ffd4c4aa52a5",
   "metadata": {
    "scrolled": true
   },
   "outputs": [
    {
     "name": "stdout",
     "output_type": "stream",
     "text": [
      "Requirement already satisfied: google-cloud in /opt/anaconda3/lib/python3.12/site-packages (0.34.0)\n",
      "Requirement already satisfied: google-cloud-bigquery in /opt/anaconda3/lib/python3.12/site-packages (3.27.0)\n",
      "Requirement already satisfied: google-auth in /opt/anaconda3/lib/python3.12/site-packages (2.37.0)\n",
      "Requirement already satisfied: google-api-core<3.0.0dev,>=2.11.1 in /opt/anaconda3/lib/python3.12/site-packages (from google-api-core[grpc]<3.0.0dev,>=2.11.1->google-cloud-bigquery) (2.24.0)\n",
      "Requirement already satisfied: google-cloud-core<3.0.0dev,>=2.4.1 in /opt/anaconda3/lib/python3.12/site-packages (from google-cloud-bigquery) (2.4.1)\n",
      "Requirement already satisfied: google-resumable-media<3.0dev,>=2.0.0 in /opt/anaconda3/lib/python3.12/site-packages (from google-cloud-bigquery) (2.7.2)\n",
      "Requirement already satisfied: packaging>=20.0.0 in /opt/anaconda3/lib/python3.12/site-packages (from google-cloud-bigquery) (24.1)\n",
      "Requirement already satisfied: python-dateutil<3.0dev,>=2.7.3 in /opt/anaconda3/lib/python3.12/site-packages (from google-cloud-bigquery) (2.9.0.post0)\n",
      "Requirement already satisfied: requests<3.0.0dev,>=2.21.0 in /opt/anaconda3/lib/python3.12/site-packages (from google-cloud-bigquery) (2.32.3)\n",
      "Requirement already satisfied: cachetools<6.0,>=2.0.0 in /opt/anaconda3/lib/python3.12/site-packages (from google-auth) (5.3.3)\n",
      "Requirement already satisfied: pyasn1-modules>=0.2.1 in /opt/anaconda3/lib/python3.12/site-packages (from google-auth) (0.2.8)\n",
      "Requirement already satisfied: rsa<5,>=3.1.4 in /opt/anaconda3/lib/python3.12/site-packages (from google-auth) (4.9)\n",
      "Requirement already satisfied: googleapis-common-protos<2.0.dev0,>=1.56.2 in /opt/anaconda3/lib/python3.12/site-packages (from google-api-core<3.0.0dev,>=2.11.1->google-api-core[grpc]<3.0.0dev,>=2.11.1->google-cloud-bigquery) (1.66.0)\n",
      "Requirement already satisfied: protobuf!=3.20.0,!=3.20.1,!=4.21.0,!=4.21.1,!=4.21.2,!=4.21.3,!=4.21.4,!=4.21.5,<6.0.0.dev0,>=3.19.5 in /opt/anaconda3/lib/python3.12/site-packages (from google-api-core<3.0.0dev,>=2.11.1->google-api-core[grpc]<3.0.0dev,>=2.11.1->google-cloud-bigquery) (5.29.2)\n",
      "Requirement already satisfied: proto-plus<2.0.0dev,>=1.22.3 in /opt/anaconda3/lib/python3.12/site-packages (from google-api-core<3.0.0dev,>=2.11.1->google-api-core[grpc]<3.0.0dev,>=2.11.1->google-cloud-bigquery) (1.25.0)\n",
      "Requirement already satisfied: grpcio<2.0dev,>=1.33.2 in /opt/anaconda3/lib/python3.12/site-packages (from google-api-core[grpc]<3.0.0dev,>=2.11.1->google-cloud-bigquery) (1.69.0)\n",
      "Requirement already satisfied: grpcio-status<2.0.dev0,>=1.33.2 in /opt/anaconda3/lib/python3.12/site-packages (from google-api-core[grpc]<3.0.0dev,>=2.11.1->google-cloud-bigquery) (1.69.0)\n",
      "Requirement already satisfied: google-crc32c<2.0dev,>=1.0 in /opt/anaconda3/lib/python3.12/site-packages (from google-resumable-media<3.0dev,>=2.0.0->google-cloud-bigquery) (1.6.0)\n",
      "Requirement already satisfied: pyasn1<0.5.0,>=0.4.6 in /opt/anaconda3/lib/python3.12/site-packages (from pyasn1-modules>=0.2.1->google-auth) (0.4.8)\n",
      "Requirement already satisfied: six>=1.5 in /opt/anaconda3/lib/python3.12/site-packages (from python-dateutil<3.0dev,>=2.7.3->google-cloud-bigquery) (1.16.0)\n",
      "Requirement already satisfied: charset-normalizer<4,>=2 in /opt/anaconda3/lib/python3.12/site-packages (from requests<3.0.0dev,>=2.21.0->google-cloud-bigquery) (3.3.2)\n",
      "Requirement already satisfied: idna<4,>=2.5 in /opt/anaconda3/lib/python3.12/site-packages (from requests<3.0.0dev,>=2.21.0->google-cloud-bigquery) (3.7)\n",
      "Requirement already satisfied: urllib3<3,>=1.21.1 in /opt/anaconda3/lib/python3.12/site-packages (from requests<3.0.0dev,>=2.21.0->google-cloud-bigquery) (2.2.3)\n",
      "Requirement already satisfied: certifi>=2017.4.17 in /opt/anaconda3/lib/python3.12/site-packages (from requests<3.0.0dev,>=2.21.0->google-cloud-bigquery) (2024.12.14)\n"
     ]
    }
   ],
   "source": [
    "!pip install google-cloud google-cloud-bigquery google-auth"
   ]
  },
  {
   "cell_type": "code",
   "execution_count": 2,
   "id": "a103afc4",
   "metadata": {},
   "outputs": [],
   "source": [
    "import pandas as pd\n",
    "import re"
   ]
  },
  {
   "cell_type": "code",
   "execution_count": 3,
   "id": "cb7a23c5-eae5-401c-8bfd-76022d61e004",
   "metadata": {},
   "outputs": [
    {
     "name": "stdout",
     "output_type": "stream",
     "text": [
      "Requirement already satisfied: db-dtypes in /opt/anaconda3/lib/python3.12/site-packages (1.3.1)\n",
      "Requirement already satisfied: packaging>=17.0 in /opt/anaconda3/lib/python3.12/site-packages (from db-dtypes) (24.1)\n",
      "Requirement already satisfied: pandas>=0.24.2 in /opt/anaconda3/lib/python3.12/site-packages (from db-dtypes) (2.2.2)\n",
      "Requirement already satisfied: pyarrow>=3.0.0 in /opt/anaconda3/lib/python3.12/site-packages (from db-dtypes) (16.1.0)\n",
      "Requirement already satisfied: numpy>=1.16.6 in /opt/anaconda3/lib/python3.12/site-packages (from db-dtypes) (1.26.4)\n",
      "Requirement already satisfied: python-dateutil>=2.8.2 in /opt/anaconda3/lib/python3.12/site-packages (from pandas>=0.24.2->db-dtypes) (2.9.0.post0)\n",
      "Requirement already satisfied: pytz>=2020.1 in /opt/anaconda3/lib/python3.12/site-packages (from pandas>=0.24.2->db-dtypes) (2024.1)\n",
      "Requirement already satisfied: tzdata>=2022.7 in /opt/anaconda3/lib/python3.12/site-packages (from pandas>=0.24.2->db-dtypes) (2023.3)\n",
      "Requirement already satisfied: six>=1.5 in /opt/anaconda3/lib/python3.12/site-packages (from python-dateutil>=2.8.2->pandas>=0.24.2->db-dtypes) (1.16.0)\n"
     ]
    }
   ],
   "source": [
    "!pip install db-dtypes"
   ]
  },
  {
   "cell_type": "code",
   "execution_count": 4,
   "id": "a518ab3c-0f51-49d3-bf06-9664726d73b4",
   "metadata": {},
   "outputs": [],
   "source": [
    "from google.auth import load_credentials_from_file\n",
    "from google.cloud.bigquery import Client"
   ]
  },
  {
   "cell_type": "code",
   "execution_count": 5,
   "id": "17536c9b-8ca2-465d-8de8-098b44a7d9a0",
   "metadata": {},
   "outputs": [],
   "source": [
    "credentials, project_id = load_credentials_from_file(\"/Users/thyneminhtetaungaung/Music Project All file /service_account.json\")"
   ]
  },
  {
   "cell_type": "code",
   "execution_count": 6,
   "id": "e4308ae7-5b0b-4bcd-81a2-0e7b9bdcaa8b",
   "metadata": {},
   "outputs": [
    {
     "data": {
      "text/plain": [
       "<google.oauth2.service_account.Credentials at 0x11d346bd0>"
      ]
     },
     "execution_count": 6,
     "metadata": {},
     "output_type": "execute_result"
    }
   ],
   "source": [
    "credentials"
   ]
  },
  {
   "cell_type": "code",
   "execution_count": 7,
   "id": "a7e17ea1-57cb-43b2-8b58-4dc1930ecd2c",
   "metadata": {},
   "outputs": [
    {
     "data": {
      "text/plain": [
       "google.oauth2.service_account.Credentials"
      ]
     },
     "execution_count": 7,
     "metadata": {},
     "output_type": "execute_result"
    }
   ],
   "source": [
    "type(credentials)"
   ]
  },
  {
   "cell_type": "code",
   "execution_count": 8,
   "id": "c3f150bb-bb64-484d-8758-11a71ce0c15a",
   "metadata": {},
   "outputs": [
    {
     "data": {
      "text/plain": [
       "'da26-python'"
      ]
     },
     "execution_count": 8,
     "metadata": {},
     "output_type": "execute_result"
    }
   ],
   "source": [
    "project_id"
   ]
  },
  {
   "cell_type": "code",
   "execution_count": 9,
   "id": "5d6e46b6-05c9-4233-8194-76812ff8cc15",
   "metadata": {},
   "outputs": [],
   "source": [
    "# load data from BigQuery\n",
    "client = Client(\n",
    "    project = project_id,\n",
    "    credentials = credentials\n",
    ")"
   ]
  },
  {
   "cell_type": "code",
   "execution_count": 10,
   "id": "726999b8-1153-4ae9-ad4c-e3ec11d198ac",
   "metadata": {},
   "outputs": [
    {
     "data": {
      "text/plain": [
       "google.cloud.bigquery.client.Client"
      ]
     },
     "execution_count": 10,
     "metadata": {},
     "output_type": "execute_result"
    }
   ],
   "source": [
    "type(client)"
   ]
  },
  {
   "cell_type": "code",
   "execution_count": null,
   "id": "4b176b35-d1fe-49e0-a8cf-7f41a954dfc8",
   "metadata": {},
   "outputs": [],
   "source": []
  },
  {
   "cell_type": "code",
   "execution_count": 11,
   "id": "12ded63d-7a37-4af6-95b8-ec10c392bb8c",
   "metadata": {},
   "outputs": [],
   "source": [
    "query = \"SELECT * FROM `da26-python.music_data.tracks`\""
   ]
  },
  {
   "cell_type": "code",
   "execution_count": 12,
   "id": "b90b5e14-bbde-4b55-bc30-6c74c965957d",
   "metadata": {},
   "outputs": [],
   "source": [
    "load_job = client.query(query)"
   ]
  },
  {
   "cell_type": "code",
   "execution_count": 13,
   "id": "fc8f79f1-6d8c-4dce-bdb4-3342be9c2ceb",
   "metadata": {},
   "outputs": [
    {
     "name": "stderr",
     "output_type": "stream",
     "text": [
      "/opt/anaconda3/lib/python3.12/site-packages/google/cloud/bigquery/table.py:1727: UserWarning: BigQuery Storage module not found, fetch data with the REST endpoint instead.\n",
      "  warnings.warn(\n"
     ]
    }
   ],
   "source": [
    "data = load_job.to_dataframe()"
   ]
  },
  {
   "cell_type": "code",
   "execution_count": 14,
   "id": "377cefe1-6358-46e3-bcbb-3efd2a91305f",
   "metadata": {},
   "outputs": [],
   "source": [
    "def load_data(table):\n",
    "    query = f\"SELECT * FROM `da26-python.music_data.{table}`\"\n",
    "    load_job = client.query(query)\n",
    "    data = load_job.to_dataframe()\n",
    "    return data"
   ]
  },
  {
   "cell_type": "code",
   "execution_count": 15,
   "id": "08d105a6-d74b-4469-bb22-c0dd03513b48",
   "metadata": {},
   "outputs": [],
   "source": [
    "artists = load_data(\"artists\")"
   ]
  },
  {
   "cell_type": "code",
   "execution_count": 16,
   "id": "29d306e6-f9ea-4f84-ac36-bab528edddb3",
   "metadata": {},
   "outputs": [
    {
     "data": {
      "text/html": [
       "<div>\n",
       "<style scoped>\n",
       "    .dataframe tbody tr th:only-of-type {\n",
       "        vertical-align: middle;\n",
       "    }\n",
       "\n",
       "    .dataframe tbody tr th {\n",
       "        vertical-align: top;\n",
       "    }\n",
       "\n",
       "    .dataframe thead th {\n",
       "        text-align: right;\n",
       "    }\n",
       "</style>\n",
       "<table border=\"1\" class=\"dataframe\">\n",
       "  <thead>\n",
       "    <tr style=\"text-align: right;\">\n",
       "      <th></th>\n",
       "      <th>artist_id</th>\n",
       "      <th>name</th>\n",
       "      <th>popularity</th>\n",
       "      <th>followers</th>\n",
       "    </tr>\n",
       "  </thead>\n",
       "  <tbody>\n",
       "    <tr>\n",
       "      <th>0</th>\n",
       "      <td>13UwRaADQI0yTqjPBDkk6d</td>\n",
       "      <td>J-Shin (Featuring LaTocha Scott of Xscape)</td>\n",
       "      <td>0</td>\n",
       "      <td>253</td>\n",
       "    </tr>\n",
       "    <tr>\n",
       "      <th>1</th>\n",
       "      <td>2LmsYeN3MzzZ9zhuZhNyqO</td>\n",
       "      <td>A*Teens</td>\n",
       "      <td>0</td>\n",
       "      <td>10</td>\n",
       "    </tr>\n",
       "    <tr>\n",
       "      <th>2</th>\n",
       "      <td>5Q25oFANw7zA3kD2DPaJ8D</td>\n",
       "      <td>The 2000s Karaoke Band</td>\n",
       "      <td>0</td>\n",
       "      <td>26</td>\n",
       "    </tr>\n",
       "    <tr>\n",
       "      <th>3</th>\n",
       "      <td>7u7ORV6MVjId1jfJwMdakL</td>\n",
       "      <td>2000s Karaoke Band</td>\n",
       "      <td>0</td>\n",
       "      <td>27</td>\n",
       "    </tr>\n",
       "    <tr>\n",
       "      <th>4</th>\n",
       "      <td>0LyfQWJT6nXafLPZqxe9Of</td>\n",
       "      <td>Various Artists</td>\n",
       "      <td>0</td>\n",
       "      <td>2542450</td>\n",
       "    </tr>\n",
       "  </tbody>\n",
       "</table>\n",
       "</div>"
      ],
      "text/plain": [
       "                artist_id                                        name  \\\n",
       "0  13UwRaADQI0yTqjPBDkk6d  J-Shin (Featuring LaTocha Scott of Xscape)   \n",
       "1  2LmsYeN3MzzZ9zhuZhNyqO                                     A*Teens   \n",
       "2  5Q25oFANw7zA3kD2DPaJ8D                      The 2000s Karaoke Band   \n",
       "3  7u7ORV6MVjId1jfJwMdakL                          2000s Karaoke Band   \n",
       "4  0LyfQWJT6nXafLPZqxe9Of                             Various Artists   \n",
       "\n",
       "   popularity  followers  \n",
       "0           0        253  \n",
       "1           0         10  \n",
       "2           0         26  \n",
       "3           0         27  \n",
       "4           0    2542450  "
      ]
     },
     "execution_count": 16,
     "metadata": {},
     "output_type": "execute_result"
    }
   ],
   "source": [
    "artists.head()"
   ]
  },
  {
   "cell_type": "code",
   "execution_count": 17,
   "id": "61a65f20-c0a5-4894-8f17-77ea2d7e8223",
   "metadata": {},
   "outputs": [
    {
     "name": "stderr",
     "output_type": "stream",
     "text": [
      "/opt/anaconda3/lib/python3.12/site-packages/google/cloud/bigquery/table.py:1727: UserWarning: BigQuery Storage module not found, fetch data with the REST endpoint instead.\n",
      "  warnings.warn(\n"
     ]
    }
   ],
   "source": [
    "audio_features = load_data(\"audio_features\")"
   ]
  },
  {
   "cell_type": "code",
   "execution_count": 18,
   "id": "ec02bad2-bddc-4973-923e-593a06029600",
   "metadata": {},
   "outputs": [
    {
     "data": {
      "text/html": [
       "<div>\n",
       "<style scoped>\n",
       "    .dataframe tbody tr th:only-of-type {\n",
       "        vertical-align: middle;\n",
       "    }\n",
       "\n",
       "    .dataframe tbody tr th {\n",
       "        vertical-align: top;\n",
       "    }\n",
       "\n",
       "    .dataframe thead th {\n",
       "        text-align: right;\n",
       "    }\n",
       "</style>\n",
       "<table border=\"1\" class=\"dataframe\">\n",
       "  <thead>\n",
       "    <tr style=\"text-align: right;\">\n",
       "      <th></th>\n",
       "      <th>track_id</th>\n",
       "      <th>danceability</th>\n",
       "      <th>energy</th>\n",
       "      <th>key</th>\n",
       "      <th>loudness</th>\n",
       "      <th>mode</th>\n",
       "      <th>speechiness</th>\n",
       "      <th>acousticness</th>\n",
       "      <th>instrumentalness</th>\n",
       "      <th>liveness</th>\n",
       "      <th>valence</th>\n",
       "      <th>tempo</th>\n",
       "      <th>time_signature</th>\n",
       "    </tr>\n",
       "  </thead>\n",
       "  <tbody>\n",
       "    <tr>\n",
       "      <th>0</th>\n",
       "      <td>None</td>\n",
       "      <td>NaN</td>\n",
       "      <td>NaN</td>\n",
       "      <td>NaN</td>\n",
       "      <td>NaN</td>\n",
       "      <td>NaN</td>\n",
       "      <td>NaN</td>\n",
       "      <td>NaN</td>\n",
       "      <td>NaN</td>\n",
       "      <td>NaN</td>\n",
       "      <td>NaN</td>\n",
       "      <td>NaN</td>\n",
       "      <td>NaN</td>\n",
       "    </tr>\n",
       "    <tr>\n",
       "      <th>1</th>\n",
       "      <td>None</td>\n",
       "      <td>NaN</td>\n",
       "      <td>NaN</td>\n",
       "      <td>NaN</td>\n",
       "      <td>NaN</td>\n",
       "      <td>NaN</td>\n",
       "      <td>NaN</td>\n",
       "      <td>NaN</td>\n",
       "      <td>NaN</td>\n",
       "      <td>NaN</td>\n",
       "      <td>NaN</td>\n",
       "      <td>NaN</td>\n",
       "      <td>NaN</td>\n",
       "    </tr>\n",
       "    <tr>\n",
       "      <th>2</th>\n",
       "      <td>None</td>\n",
       "      <td>NaN</td>\n",
       "      <td>NaN</td>\n",
       "      <td>NaN</td>\n",
       "      <td>NaN</td>\n",
       "      <td>NaN</td>\n",
       "      <td>NaN</td>\n",
       "      <td>NaN</td>\n",
       "      <td>NaN</td>\n",
       "      <td>NaN</td>\n",
       "      <td>NaN</td>\n",
       "      <td>NaN</td>\n",
       "      <td>NaN</td>\n",
       "    </tr>\n",
       "    <tr>\n",
       "      <th>3</th>\n",
       "      <td>None</td>\n",
       "      <td>NaN</td>\n",
       "      <td>NaN</td>\n",
       "      <td>NaN</td>\n",
       "      <td>NaN</td>\n",
       "      <td>NaN</td>\n",
       "      <td>NaN</td>\n",
       "      <td>NaN</td>\n",
       "      <td>NaN</td>\n",
       "      <td>NaN</td>\n",
       "      <td>NaN</td>\n",
       "      <td>NaN</td>\n",
       "      <td>NaN</td>\n",
       "    </tr>\n",
       "    <tr>\n",
       "      <th>4</th>\n",
       "      <td>None</td>\n",
       "      <td>NaN</td>\n",
       "      <td>NaN</td>\n",
       "      <td>NaN</td>\n",
       "      <td>NaN</td>\n",
       "      <td>NaN</td>\n",
       "      <td>NaN</td>\n",
       "      <td>NaN</td>\n",
       "      <td>NaN</td>\n",
       "      <td>NaN</td>\n",
       "      <td>NaN</td>\n",
       "      <td>NaN</td>\n",
       "      <td>NaN</td>\n",
       "    </tr>\n",
       "    <tr>\n",
       "      <th>5</th>\n",
       "      <td>None</td>\n",
       "      <td>NaN</td>\n",
       "      <td>NaN</td>\n",
       "      <td>NaN</td>\n",
       "      <td>NaN</td>\n",
       "      <td>NaN</td>\n",
       "      <td>NaN</td>\n",
       "      <td>NaN</td>\n",
       "      <td>NaN</td>\n",
       "      <td>NaN</td>\n",
       "      <td>NaN</td>\n",
       "      <td>NaN</td>\n",
       "      <td>NaN</td>\n",
       "    </tr>\n",
       "    <tr>\n",
       "      <th>6</th>\n",
       "      <td>None</td>\n",
       "      <td>NaN</td>\n",
       "      <td>NaN</td>\n",
       "      <td>NaN</td>\n",
       "      <td>NaN</td>\n",
       "      <td>NaN</td>\n",
       "      <td>NaN</td>\n",
       "      <td>NaN</td>\n",
       "      <td>NaN</td>\n",
       "      <td>NaN</td>\n",
       "      <td>NaN</td>\n",
       "      <td>NaN</td>\n",
       "      <td>NaN</td>\n",
       "    </tr>\n",
       "    <tr>\n",
       "      <th>7</th>\n",
       "      <td>3lZpvPprN56RWqDqrKy9vl</td>\n",
       "      <td>0.00</td>\n",
       "      <td>0.532</td>\n",
       "      <td>3.0</td>\n",
       "      <td>-7.447</td>\n",
       "      <td>1.0</td>\n",
       "      <td>0.000</td>\n",
       "      <td>0.976</td>\n",
       "      <td>0.000000</td>\n",
       "      <td>0.000</td>\n",
       "      <td>0.0000</td>\n",
       "      <td>0.000</td>\n",
       "      <td>0.0</td>\n",
       "    </tr>\n",
       "    <tr>\n",
       "      <th>8</th>\n",
       "      <td>7rLDARtJALM7QdiJDMXW7m</td>\n",
       "      <td>0.25</td>\n",
       "      <td>0.215</td>\n",
       "      <td>8.0</td>\n",
       "      <td>-13.676</td>\n",
       "      <td>0.0</td>\n",
       "      <td>0.037</td>\n",
       "      <td>0.632</td>\n",
       "      <td>0.071700</td>\n",
       "      <td>0.401</td>\n",
       "      <td>0.0746</td>\n",
       "      <td>174.824</td>\n",
       "      <td>3.0</td>\n",
       "    </tr>\n",
       "    <tr>\n",
       "      <th>9</th>\n",
       "      <td>4TbNLKRLKlxZDlS0pu7Lsy</td>\n",
       "      <td>0.25</td>\n",
       "      <td>0.136</td>\n",
       "      <td>10.0</td>\n",
       "      <td>-12.162</td>\n",
       "      <td>1.0</td>\n",
       "      <td>0.037</td>\n",
       "      <td>0.673</td>\n",
       "      <td>0.000157</td>\n",
       "      <td>0.107</td>\n",
       "      <td>0.0981</td>\n",
       "      <td>118.086</td>\n",
       "      <td>4.0</td>\n",
       "    </tr>\n",
       "  </tbody>\n",
       "</table>\n",
       "</div>"
      ],
      "text/plain": [
       "                 track_id  danceability  energy   key  loudness  mode  \\\n",
       "0                    None           NaN     NaN   NaN       NaN   NaN   \n",
       "1                    None           NaN     NaN   NaN       NaN   NaN   \n",
       "2                    None           NaN     NaN   NaN       NaN   NaN   \n",
       "3                    None           NaN     NaN   NaN       NaN   NaN   \n",
       "4                    None           NaN     NaN   NaN       NaN   NaN   \n",
       "5                    None           NaN     NaN   NaN       NaN   NaN   \n",
       "6                    None           NaN     NaN   NaN       NaN   NaN   \n",
       "7  3lZpvPprN56RWqDqrKy9vl          0.00   0.532   3.0    -7.447   1.0   \n",
       "8  7rLDARtJALM7QdiJDMXW7m          0.25   0.215   8.0   -13.676   0.0   \n",
       "9  4TbNLKRLKlxZDlS0pu7Lsy          0.25   0.136  10.0   -12.162   1.0   \n",
       "\n",
       "   speechiness  acousticness  instrumentalness  liveness  valence    tempo  \\\n",
       "0          NaN           NaN               NaN       NaN      NaN      NaN   \n",
       "1          NaN           NaN               NaN       NaN      NaN      NaN   \n",
       "2          NaN           NaN               NaN       NaN      NaN      NaN   \n",
       "3          NaN           NaN               NaN       NaN      NaN      NaN   \n",
       "4          NaN           NaN               NaN       NaN      NaN      NaN   \n",
       "5          NaN           NaN               NaN       NaN      NaN      NaN   \n",
       "6          NaN           NaN               NaN       NaN      NaN      NaN   \n",
       "7        0.000         0.976          0.000000     0.000   0.0000    0.000   \n",
       "8        0.037         0.632          0.071700     0.401   0.0746  174.824   \n",
       "9        0.037         0.673          0.000157     0.107   0.0981  118.086   \n",
       "\n",
       "   time_signature  \n",
       "0             NaN  \n",
       "1             NaN  \n",
       "2             NaN  \n",
       "3             NaN  \n",
       "4             NaN  \n",
       "5             NaN  \n",
       "6             NaN  \n",
       "7             0.0  \n",
       "8             3.0  \n",
       "9             4.0  "
      ]
     },
     "execution_count": 18,
     "metadata": {},
     "output_type": "execute_result"
    }
   ],
   "source": [
    "audio_features.head(10)"
   ]
  },
  {
   "cell_type": "code",
   "execution_count": 19,
   "id": "85acb1eb-245c-444c-ab52-eae897f6bbd6",
   "metadata": {},
   "outputs": [
    {
     "data": {
      "text/html": [
       "<div>\n",
       "<style scoped>\n",
       "    .dataframe tbody tr th:only-of-type {\n",
       "        vertical-align: middle;\n",
       "    }\n",
       "\n",
       "    .dataframe tbody tr th {\n",
       "        vertical-align: top;\n",
       "    }\n",
       "\n",
       "    .dataframe thead th {\n",
       "        text-align: right;\n",
       "    }\n",
       "</style>\n",
       "<table border=\"1\" class=\"dataframe\">\n",
       "  <thead>\n",
       "    <tr style=\"text-align: right;\">\n",
       "      <th></th>\n",
       "      <th>track_id</th>\n",
       "      <th>danceability</th>\n",
       "      <th>energy</th>\n",
       "      <th>key</th>\n",
       "      <th>loudness</th>\n",
       "      <th>mode</th>\n",
       "      <th>speechiness</th>\n",
       "      <th>acousticness</th>\n",
       "      <th>instrumentalness</th>\n",
       "      <th>liveness</th>\n",
       "      <th>valence</th>\n",
       "      <th>tempo</th>\n",
       "      <th>time_signature</th>\n",
       "    </tr>\n",
       "  </thead>\n",
       "  <tbody>\n",
       "    <tr>\n",
       "      <th>4208</th>\n",
       "      <td>6aVeSCobcOjIkMFARN9B7l</td>\n",
       "      <td>0.581</td>\n",
       "      <td>0.678</td>\n",
       "      <td>1.0</td>\n",
       "      <td>-6.624</td>\n",
       "      <td>1.0</td>\n",
       "      <td>0.0630</td>\n",
       "      <td>0.05120</td>\n",
       "      <td>0.000000</td>\n",
       "      <td>0.1640</td>\n",
       "      <td>0.284</td>\n",
       "      <td>142.968</td>\n",
       "      <td>4.0</td>\n",
       "    </tr>\n",
       "    <tr>\n",
       "      <th>9477</th>\n",
       "      <td>0w3Q14i073jLoew1hgJkwD</td>\n",
       "      <td>0.596</td>\n",
       "      <td>0.833</td>\n",
       "      <td>9.0</td>\n",
       "      <td>-4.308</td>\n",
       "      <td>1.0</td>\n",
       "      <td>0.0474</td>\n",
       "      <td>0.05630</td>\n",
       "      <td>0.000000</td>\n",
       "      <td>0.0866</td>\n",
       "      <td>0.618</td>\n",
       "      <td>115.997</td>\n",
       "      <td>4.0</td>\n",
       "    </tr>\n",
       "    <tr>\n",
       "      <th>1019</th>\n",
       "      <td>4HSAJpNocVNJbwbQvtCMdO</td>\n",
       "      <td>0.934</td>\n",
       "      <td>0.706</td>\n",
       "      <td>7.0</td>\n",
       "      <td>-5.317</td>\n",
       "      <td>1.0</td>\n",
       "      <td>0.1780</td>\n",
       "      <td>0.03050</td>\n",
       "      <td>0.000121</td>\n",
       "      <td>0.1360</td>\n",
       "      <td>0.614</td>\n",
       "      <td>112.962</td>\n",
       "      <td>4.0</td>\n",
       "    </tr>\n",
       "    <tr>\n",
       "      <th>317</th>\n",
       "      <td>4muwDurKeVOB1WBjTVRWlD</td>\n",
       "      <td>0.732</td>\n",
       "      <td>0.600</td>\n",
       "      <td>6.0</td>\n",
       "      <td>-9.057</td>\n",
       "      <td>0.0</td>\n",
       "      <td>0.2410</td>\n",
       "      <td>0.00385</td>\n",
       "      <td>0.000114</td>\n",
       "      <td>0.1120</td>\n",
       "      <td>0.436</td>\n",
       "      <td>167.973</td>\n",
       "      <td>4.0</td>\n",
       "    </tr>\n",
       "    <tr>\n",
       "      <th>1466</th>\n",
       "      <td>7d94IqWX2UmSKMGUYSGFJG</td>\n",
       "      <td>0.654</td>\n",
       "      <td>0.452</td>\n",
       "      <td>7.0</td>\n",
       "      <td>-6.360</td>\n",
       "      <td>1.0</td>\n",
       "      <td>0.0439</td>\n",
       "      <td>0.17000</td>\n",
       "      <td>0.000000</td>\n",
       "      <td>0.1140</td>\n",
       "      <td>0.532</td>\n",
       "      <td>138.034</td>\n",
       "      <td>4.0</td>\n",
       "    </tr>\n",
       "    <tr>\n",
       "      <th>3095</th>\n",
       "      <td>3JA9Jsuxr4xgHXEawAdCp4</td>\n",
       "      <td>0.659</td>\n",
       "      <td>0.629</td>\n",
       "      <td>0.0</td>\n",
       "      <td>-8.685</td>\n",
       "      <td>0.0</td>\n",
       "      <td>0.1800</td>\n",
       "      <td>0.19000</td>\n",
       "      <td>0.000000</td>\n",
       "      <td>0.1050</td>\n",
       "      <td>0.262</td>\n",
       "      <td>94.049</td>\n",
       "      <td>4.0</td>\n",
       "    </tr>\n",
       "    <tr>\n",
       "      <th>3151</th>\n",
       "      <td>4hnK8P3v7kE7T4PMBYwRhu</td>\n",
       "      <td>0.528</td>\n",
       "      <td>0.856</td>\n",
       "      <td>7.0</td>\n",
       "      <td>-4.605</td>\n",
       "      <td>1.0</td>\n",
       "      <td>0.0351</td>\n",
       "      <td>0.05200</td>\n",
       "      <td>0.000000</td>\n",
       "      <td>0.0988</td>\n",
       "      <td>0.572</td>\n",
       "      <td>87.019</td>\n",
       "      <td>4.0</td>\n",
       "    </tr>\n",
       "    <tr>\n",
       "      <th>7003</th>\n",
       "      <td>1zDJ253HHk2TBoaO6nGUxL</td>\n",
       "      <td>0.770</td>\n",
       "      <td>0.731</td>\n",
       "      <td>0.0</td>\n",
       "      <td>-5.083</td>\n",
       "      <td>1.0</td>\n",
       "      <td>0.1210</td>\n",
       "      <td>0.01300</td>\n",
       "      <td>0.002050</td>\n",
       "      <td>0.0165</td>\n",
       "      <td>0.713</td>\n",
       "      <td>160.965</td>\n",
       "      <td>4.0</td>\n",
       "    </tr>\n",
       "    <tr>\n",
       "      <th>6241</th>\n",
       "      <td>0ypjMI7vHiDP4sLB1C0Qna</td>\n",
       "      <td>0.699</td>\n",
       "      <td>0.748</td>\n",
       "      <td>4.0</td>\n",
       "      <td>-4.720</td>\n",
       "      <td>0.0</td>\n",
       "      <td>0.2270</td>\n",
       "      <td>0.09990</td>\n",
       "      <td>0.000000</td>\n",
       "      <td>0.5780</td>\n",
       "      <td>0.260</td>\n",
       "      <td>140.006</td>\n",
       "      <td>4.0</td>\n",
       "    </tr>\n",
       "    <tr>\n",
       "      <th>9405</th>\n",
       "      <td>0Y0TOsE1q11qgbi7c5WZsG</td>\n",
       "      <td>0.727</td>\n",
       "      <td>0.599</td>\n",
       "      <td>1.0</td>\n",
       "      <td>-6.941</td>\n",
       "      <td>1.0</td>\n",
       "      <td>0.3270</td>\n",
       "      <td>0.31700</td>\n",
       "      <td>0.000000</td>\n",
       "      <td>0.2190</td>\n",
       "      <td>0.386</td>\n",
       "      <td>167.909</td>\n",
       "      <td>3.0</td>\n",
       "    </tr>\n",
       "  </tbody>\n",
       "</table>\n",
       "</div>"
      ],
      "text/plain": [
       "                    track_id  danceability  energy  key  loudness  mode  \\\n",
       "4208  6aVeSCobcOjIkMFARN9B7l         0.581   0.678  1.0    -6.624   1.0   \n",
       "9477  0w3Q14i073jLoew1hgJkwD         0.596   0.833  9.0    -4.308   1.0   \n",
       "1019  4HSAJpNocVNJbwbQvtCMdO         0.934   0.706  7.0    -5.317   1.0   \n",
       "317   4muwDurKeVOB1WBjTVRWlD         0.732   0.600  6.0    -9.057   0.0   \n",
       "1466  7d94IqWX2UmSKMGUYSGFJG         0.654   0.452  7.0    -6.360   1.0   \n",
       "3095  3JA9Jsuxr4xgHXEawAdCp4         0.659   0.629  0.0    -8.685   0.0   \n",
       "3151  4hnK8P3v7kE7T4PMBYwRhu         0.528   0.856  7.0    -4.605   1.0   \n",
       "7003  1zDJ253HHk2TBoaO6nGUxL         0.770   0.731  0.0    -5.083   1.0   \n",
       "6241  0ypjMI7vHiDP4sLB1C0Qna         0.699   0.748  4.0    -4.720   0.0   \n",
       "9405  0Y0TOsE1q11qgbi7c5WZsG         0.727   0.599  1.0    -6.941   1.0   \n",
       "\n",
       "      speechiness  acousticness  instrumentalness  liveness  valence    tempo  \\\n",
       "4208       0.0630       0.05120          0.000000    0.1640    0.284  142.968   \n",
       "9477       0.0474       0.05630          0.000000    0.0866    0.618  115.997   \n",
       "1019       0.1780       0.03050          0.000121    0.1360    0.614  112.962   \n",
       "317        0.2410       0.00385          0.000114    0.1120    0.436  167.973   \n",
       "1466       0.0439       0.17000          0.000000    0.1140    0.532  138.034   \n",
       "3095       0.1800       0.19000          0.000000    0.1050    0.262   94.049   \n",
       "3151       0.0351       0.05200          0.000000    0.0988    0.572   87.019   \n",
       "7003       0.1210       0.01300          0.002050    0.0165    0.713  160.965   \n",
       "6241       0.2270       0.09990          0.000000    0.5780    0.260  140.006   \n",
       "9405       0.3270       0.31700          0.000000    0.2190    0.386  167.909   \n",
       "\n",
       "      time_signature  \n",
       "4208             4.0  \n",
       "9477             4.0  \n",
       "1019             4.0  \n",
       "317              4.0  \n",
       "1466             4.0  \n",
       "3095             4.0  \n",
       "3151             4.0  \n",
       "7003             4.0  \n",
       "6241             4.0  \n",
       "9405             3.0  "
      ]
     },
     "execution_count": 19,
     "metadata": {},
     "output_type": "execute_result"
    }
   ],
   "source": [
    "audio_features.sample(10)"
   ]
  },
  {
   "cell_type": "code",
   "execution_count": 20,
   "id": "a4cf811e-daf1-43d1-bf88-1a657a0ea104",
   "metadata": {},
   "outputs": [
    {
     "data": {
      "text/html": [
       "<div>\n",
       "<style scoped>\n",
       "    .dataframe tbody tr th:only-of-type {\n",
       "        vertical-align: middle;\n",
       "    }\n",
       "\n",
       "    .dataframe tbody tr th {\n",
       "        vertical-align: top;\n",
       "    }\n",
       "\n",
       "    .dataframe thead th {\n",
       "        text-align: right;\n",
       "    }\n",
       "</style>\n",
       "<table border=\"1\" class=\"dataframe\">\n",
       "  <thead>\n",
       "    <tr style=\"text-align: right;\">\n",
       "      <th></th>\n",
       "      <th>track_id</th>\n",
       "      <th>danceability</th>\n",
       "      <th>energy</th>\n",
       "      <th>key</th>\n",
       "      <th>loudness</th>\n",
       "      <th>mode</th>\n",
       "      <th>speechiness</th>\n",
       "      <th>acousticness</th>\n",
       "      <th>instrumentalness</th>\n",
       "      <th>liveness</th>\n",
       "      <th>valence</th>\n",
       "      <th>tempo</th>\n",
       "      <th>time_signature</th>\n",
       "    </tr>\n",
       "  </thead>\n",
       "  <tbody>\n",
       "    <tr>\n",
       "      <th>10773</th>\n",
       "      <td>1wva1IlWLDNLgwipUWcmjy</td>\n",
       "      <td>0.756</td>\n",
       "      <td>0.829</td>\n",
       "      <td>11.0</td>\n",
       "      <td>-3.973</td>\n",
       "      <td>1.0</td>\n",
       "      <td>0.0682</td>\n",
       "      <td>0.00300</td>\n",
       "      <td>0.000035</td>\n",
       "      <td>0.0578</td>\n",
       "      <td>0.504</td>\n",
       "      <td>120.163</td>\n",
       "      <td>4.0</td>\n",
       "    </tr>\n",
       "    <tr>\n",
       "      <th>10774</th>\n",
       "      <td>5Odq8ohlgIbQKMZivbWkEo</td>\n",
       "      <td>0.881</td>\n",
       "      <td>0.592</td>\n",
       "      <td>2.0</td>\n",
       "      <td>-4.898</td>\n",
       "      <td>1.0</td>\n",
       "      <td>0.0324</td>\n",
       "      <td>0.61900</td>\n",
       "      <td>0.000013</td>\n",
       "      <td>0.0901</td>\n",
       "      <td>0.719</td>\n",
       "      <td>101.058</td>\n",
       "      <td>4.0</td>\n",
       "    </tr>\n",
       "    <tr>\n",
       "      <th>10775</th>\n",
       "      <td>3wMUvT6eIw2L5cZFG1yH9j</td>\n",
       "      <td>0.881</td>\n",
       "      <td>0.663</td>\n",
       "      <td>2.0</td>\n",
       "      <td>-6.822</td>\n",
       "      <td>1.0</td>\n",
       "      <td>0.0827</td>\n",
       "      <td>0.00683</td>\n",
       "      <td>0.000000</td>\n",
       "      <td>0.1420</td>\n",
       "      <td>0.586</td>\n",
       "      <td>81.374</td>\n",
       "      <td>4.0</td>\n",
       "    </tr>\n",
       "    <tr>\n",
       "      <th>10776</th>\n",
       "      <td>0GR7iJLhj80KD5LkA14ZRn</td>\n",
       "      <td>0.881</td>\n",
       "      <td>0.546</td>\n",
       "      <td>2.0</td>\n",
       "      <td>-7.566</td>\n",
       "      <td>1.0</td>\n",
       "      <td>0.1200</td>\n",
       "      <td>0.00296</td>\n",
       "      <td>0.000005</td>\n",
       "      <td>0.2260</td>\n",
       "      <td>0.276</td>\n",
       "      <td>140.032</td>\n",
       "      <td>4.0</td>\n",
       "    </tr>\n",
       "    <tr>\n",
       "      <th>10777</th>\n",
       "      <td>7nDtDxsKJ3fho8xEmU65JJ</td>\n",
       "      <td>0.881</td>\n",
       "      <td>0.830</td>\n",
       "      <td>7.0</td>\n",
       "      <td>-4.563</td>\n",
       "      <td>1.0</td>\n",
       "      <td>0.1720</td>\n",
       "      <td>0.01440</td>\n",
       "      <td>0.007710</td>\n",
       "      <td>0.0626</td>\n",
       "      <td>0.765</td>\n",
       "      <td>98.793</td>\n",
       "      <td>4.0</td>\n",
       "    </tr>\n",
       "    <tr>\n",
       "      <th>10778</th>\n",
       "      <td>2Ec33AVlkTTq8BHFgBTdQs</td>\n",
       "      <td>0.881</td>\n",
       "      <td>0.457</td>\n",
       "      <td>7.0</td>\n",
       "      <td>-8.191</td>\n",
       "      <td>0.0</td>\n",
       "      <td>0.1560</td>\n",
       "      <td>0.03270</td>\n",
       "      <td>0.000000</td>\n",
       "      <td>0.2310</td>\n",
       "      <td>0.296</td>\n",
       "      <td>136.970</td>\n",
       "      <td>4.0</td>\n",
       "    </tr>\n",
       "    <tr>\n",
       "      <th>10779</th>\n",
       "      <td>3KixNgUEaDtrKJVzdqjU5q</td>\n",
       "      <td>0.881</td>\n",
       "      <td>0.636</td>\n",
       "      <td>7.0</td>\n",
       "      <td>-4.629</td>\n",
       "      <td>1.0</td>\n",
       "      <td>0.2870</td>\n",
       "      <td>0.00606</td>\n",
       "      <td>0.000000</td>\n",
       "      <td>0.1110</td>\n",
       "      <td>0.715</td>\n",
       "      <td>163.949</td>\n",
       "      <td>4.0</td>\n",
       "    </tr>\n",
       "    <tr>\n",
       "      <th>10780</th>\n",
       "      <td>4ANFPo7dzs2DdPuONXC9bp</td>\n",
       "      <td>0.881</td>\n",
       "      <td>0.549</td>\n",
       "      <td>10.0</td>\n",
       "      <td>-5.589</td>\n",
       "      <td>1.0</td>\n",
       "      <td>0.2720</td>\n",
       "      <td>0.00910</td>\n",
       "      <td>0.000000</td>\n",
       "      <td>0.1370</td>\n",
       "      <td>0.202</td>\n",
       "      <td>144.019</td>\n",
       "      <td>4.0</td>\n",
       "    </tr>\n",
       "    <tr>\n",
       "      <th>10781</th>\n",
       "      <td>5wfllwdjglyQislkskYLBv</td>\n",
       "      <td>0.881</td>\n",
       "      <td>0.442</td>\n",
       "      <td>11.0</td>\n",
       "      <td>-6.278</td>\n",
       "      <td>0.0</td>\n",
       "      <td>0.0651</td>\n",
       "      <td>0.48000</td>\n",
       "      <td>0.000009</td>\n",
       "      <td>0.1200</td>\n",
       "      <td>0.803</td>\n",
       "      <td>138.014</td>\n",
       "      <td>4.0</td>\n",
       "    </tr>\n",
       "    <tr>\n",
       "      <th>10782</th>\n",
       "      <td>3EikYy40GMSp8l5mDV6IQo</td>\n",
       "      <td>0.881</td>\n",
       "      <td>0.623</td>\n",
       "      <td>1.0</td>\n",
       "      <td>-9.662</td>\n",
       "      <td>1.0</td>\n",
       "      <td>0.1190</td>\n",
       "      <td>0.25700</td>\n",
       "      <td>0.000002</td>\n",
       "      <td>0.0964</td>\n",
       "      <td>0.744</td>\n",
       "      <td>88.953</td>\n",
       "      <td>4.0</td>\n",
       "    </tr>\n",
       "  </tbody>\n",
       "</table>\n",
       "</div>"
      ],
      "text/plain": [
       "                     track_id  danceability  energy   key  loudness  mode  \\\n",
       "10773  1wva1IlWLDNLgwipUWcmjy         0.756   0.829  11.0    -3.973   1.0   \n",
       "10774  5Odq8ohlgIbQKMZivbWkEo         0.881   0.592   2.0    -4.898   1.0   \n",
       "10775  3wMUvT6eIw2L5cZFG1yH9j         0.881   0.663   2.0    -6.822   1.0   \n",
       "10776  0GR7iJLhj80KD5LkA14ZRn         0.881   0.546   2.0    -7.566   1.0   \n",
       "10777  7nDtDxsKJ3fho8xEmU65JJ         0.881   0.830   7.0    -4.563   1.0   \n",
       "10778  2Ec33AVlkTTq8BHFgBTdQs         0.881   0.457   7.0    -8.191   0.0   \n",
       "10779  3KixNgUEaDtrKJVzdqjU5q         0.881   0.636   7.0    -4.629   1.0   \n",
       "10780  4ANFPo7dzs2DdPuONXC9bp         0.881   0.549  10.0    -5.589   1.0   \n",
       "10781  5wfllwdjglyQislkskYLBv         0.881   0.442  11.0    -6.278   0.0   \n",
       "10782  3EikYy40GMSp8l5mDV6IQo         0.881   0.623   1.0    -9.662   1.0   \n",
       "\n",
       "       speechiness  acousticness  instrumentalness  liveness  valence  \\\n",
       "10773       0.0682       0.00300          0.000035    0.0578    0.504   \n",
       "10774       0.0324       0.61900          0.000013    0.0901    0.719   \n",
       "10775       0.0827       0.00683          0.000000    0.1420    0.586   \n",
       "10776       0.1200       0.00296          0.000005    0.2260    0.276   \n",
       "10777       0.1720       0.01440          0.007710    0.0626    0.765   \n",
       "10778       0.1560       0.03270          0.000000    0.2310    0.296   \n",
       "10779       0.2870       0.00606          0.000000    0.1110    0.715   \n",
       "10780       0.2720       0.00910          0.000000    0.1370    0.202   \n",
       "10781       0.0651       0.48000          0.000009    0.1200    0.803   \n",
       "10782       0.1190       0.25700          0.000002    0.0964    0.744   \n",
       "\n",
       "         tempo  time_signature  \n",
       "10773  120.163             4.0  \n",
       "10774  101.058             4.0  \n",
       "10775   81.374             4.0  \n",
       "10776  140.032             4.0  \n",
       "10777   98.793             4.0  \n",
       "10778  136.970             4.0  \n",
       "10779  163.949             4.0  \n",
       "10780  144.019             4.0  \n",
       "10781  138.014             4.0  \n",
       "10782   88.953             4.0  "
      ]
     },
     "execution_count": 20,
     "metadata": {},
     "output_type": "execute_result"
    }
   ],
   "source": [
    "audio_features.tail(10)"
   ]
  },
  {
   "cell_type": "code",
   "execution_count": 21,
   "id": "54134450-e2e2-4251-88b6-9458f4354808",
   "metadata": {},
   "outputs": [
    {
     "name": "stderr",
     "output_type": "stream",
     "text": [
      "/opt/anaconda3/lib/python3.12/site-packages/google/cloud/bigquery/table.py:1727: UserWarning: BigQuery Storage module not found, fetch data with the REST endpoint instead.\n",
      "  warnings.warn(\n"
     ]
    },
    {
     "data": {
      "text/html": [
       "<div>\n",
       "<style scoped>\n",
       "    .dataframe tbody tr th:only-of-type {\n",
       "        vertical-align: middle;\n",
       "    }\n",
       "\n",
       "    .dataframe tbody tr th {\n",
       "        vertical-align: top;\n",
       "    }\n",
       "\n",
       "    .dataframe thead th {\n",
       "        text-align: right;\n",
       "    }\n",
       "</style>\n",
       "<table border=\"1\" class=\"dataframe\">\n",
       "  <thead>\n",
       "    <tr style=\"text-align: right;\">\n",
       "      <th></th>\n",
       "      <th>chart_week</th>\n",
       "      <th>list_position</th>\n",
       "      <th>track_id</th>\n",
       "    </tr>\n",
       "  </thead>\n",
       "  <tbody>\n",
       "    <tr>\n",
       "      <th>0</th>\n",
       "      <td>2021-07-10</td>\n",
       "      <td>42</td>\n",
       "      <td>000TJlEJQ3nafsm1hBWpoj</td>\n",
       "    </tr>\n",
       "    <tr>\n",
       "      <th>1</th>\n",
       "      <td>2003-07-19</td>\n",
       "      <td>60</td>\n",
       "      <td>003FTlCpBTM4eSqYSWPv4H</td>\n",
       "    </tr>\n",
       "    <tr>\n",
       "      <th>2</th>\n",
       "      <td>2003-07-26</td>\n",
       "      <td>60</td>\n",
       "      <td>003FTlCpBTM4eSqYSWPv4H</td>\n",
       "    </tr>\n",
       "    <tr>\n",
       "      <th>3</th>\n",
       "      <td>2003-08-02</td>\n",
       "      <td>64</td>\n",
       "      <td>003FTlCpBTM4eSqYSWPv4H</td>\n",
       "    </tr>\n",
       "    <tr>\n",
       "      <th>4</th>\n",
       "      <td>2003-07-12</td>\n",
       "      <td>66</td>\n",
       "      <td>003FTlCpBTM4eSqYSWPv4H</td>\n",
       "    </tr>\n",
       "    <tr>\n",
       "      <th>5</th>\n",
       "      <td>2003-08-09</td>\n",
       "      <td>66</td>\n",
       "      <td>003FTlCpBTM4eSqYSWPv4H</td>\n",
       "    </tr>\n",
       "    <tr>\n",
       "      <th>6</th>\n",
       "      <td>2003-06-28</td>\n",
       "      <td>67</td>\n",
       "      <td>003FTlCpBTM4eSqYSWPv4H</td>\n",
       "    </tr>\n",
       "    <tr>\n",
       "      <th>7</th>\n",
       "      <td>2003-07-05</td>\n",
       "      <td>67</td>\n",
       "      <td>003FTlCpBTM4eSqYSWPv4H</td>\n",
       "    </tr>\n",
       "    <tr>\n",
       "      <th>8</th>\n",
       "      <td>2003-06-21</td>\n",
       "      <td>71</td>\n",
       "      <td>003FTlCpBTM4eSqYSWPv4H</td>\n",
       "    </tr>\n",
       "    <tr>\n",
       "      <th>9</th>\n",
       "      <td>2003-08-16</td>\n",
       "      <td>85</td>\n",
       "      <td>003FTlCpBTM4eSqYSWPv4H</td>\n",
       "    </tr>\n",
       "  </tbody>\n",
       "</table>\n",
       "</div>"
      ],
      "text/plain": [
       "   chart_week  list_position                track_id\n",
       "0  2021-07-10             42  000TJlEJQ3nafsm1hBWpoj\n",
       "1  2003-07-19             60  003FTlCpBTM4eSqYSWPv4H\n",
       "2  2003-07-26             60  003FTlCpBTM4eSqYSWPv4H\n",
       "3  2003-08-02             64  003FTlCpBTM4eSqYSWPv4H\n",
       "4  2003-07-12             66  003FTlCpBTM4eSqYSWPv4H\n",
       "5  2003-08-09             66  003FTlCpBTM4eSqYSWPv4H\n",
       "6  2003-06-28             67  003FTlCpBTM4eSqYSWPv4H\n",
       "7  2003-07-05             67  003FTlCpBTM4eSqYSWPv4H\n",
       "8  2003-06-21             71  003FTlCpBTM4eSqYSWPv4H\n",
       "9  2003-08-16             85  003FTlCpBTM4eSqYSWPv4H"
      ]
     },
     "execution_count": 21,
     "metadata": {},
     "output_type": "execute_result"
    }
   ],
   "source": [
    "chart_positions = load_data(\"chart_positions\")\n",
    "chart_positions.head(10)"
   ]
  },
  {
   "cell_type": "code",
   "execution_count": 22,
   "id": "47352542",
   "metadata": {},
   "outputs": [
    {
     "name": "stderr",
     "output_type": "stream",
     "text": [
      "/opt/anaconda3/lib/python3.12/site-packages/google/cloud/bigquery/table.py:1727: UserWarning: BigQuery Storage module not found, fetch data with the REST endpoint instead.\n",
      "  warnings.warn(\n"
     ]
    },
    {
     "data": {
      "text/html": [
       "<div>\n",
       "<style scoped>\n",
       "    .dataframe tbody tr th:only-of-type {\n",
       "        vertical-align: middle;\n",
       "    }\n",
       "\n",
       "    .dataframe tbody tr th {\n",
       "        vertical-align: top;\n",
       "    }\n",
       "\n",
       "    .dataframe thead th {\n",
       "        text-align: right;\n",
       "    }\n",
       "</style>\n",
       "<table border=\"1\" class=\"dataframe\">\n",
       "  <thead>\n",
       "    <tr style=\"text-align: right;\">\n",
       "      <th></th>\n",
       "      <th>track_id</th>\n",
       "      <th>name</th>\n",
       "      <th>duration_ms</th>\n",
       "      <th>release_date</th>\n",
       "      <th>album_type</th>\n",
       "      <th>explicit</th>\n",
       "    </tr>\n",
       "  </thead>\n",
       "  <tbody>\n",
       "    <tr>\n",
       "      <th>0</th>\n",
       "      <td>5CMVGP24paZIukljDj0iWc</td>\n",
       "      <td>Jingle Bells (with The Ken Lane Singers)</td>\n",
       "      <td>156666</td>\n",
       "      <td>1945</td>\n",
       "      <td>compilation</td>\n",
       "      <td>False</td>\n",
       "    </tr>\n",
       "    <tr>\n",
       "      <th>1</th>\n",
       "      <td>25leEEaz1gIpp7o21Fqyjo</td>\n",
       "      <td>Here Comes Santa Claus (Right Down Santa Claus...</td>\n",
       "      <td>150266</td>\n",
       "      <td>1947</td>\n",
       "      <td>album</td>\n",
       "      <td>False</td>\n",
       "    </tr>\n",
       "    <tr>\n",
       "      <th>2</th>\n",
       "      <td>1dtIaSlyrLI04sqYa8nLyN</td>\n",
       "      <td>Rudolph the Red-Nosed Reindeer</td>\n",
       "      <td>186733</td>\n",
       "      <td>1947</td>\n",
       "      <td>album</td>\n",
       "      <td>False</td>\n",
       "    </tr>\n",
       "    <tr>\n",
       "      <th>3</th>\n",
       "      <td>4PS1e8f2LvuTFgUs1Cn3ON</td>\n",
       "      <td>The Christmas Song (Merry Christmas To You)</td>\n",
       "      <td>192160</td>\n",
       "      <td>1962</td>\n",
       "      <td>album</td>\n",
       "      <td>False</td>\n",
       "    </tr>\n",
       "    <tr>\n",
       "      <th>4</th>\n",
       "      <td>4PS1e8f2LvuTFgUs1Cn3ON</td>\n",
       "      <td>The Christmas Song (Merry Christmas To You)</td>\n",
       "      <td>192160</td>\n",
       "      <td>1962</td>\n",
       "      <td>album</td>\n",
       "      <td>False</td>\n",
       "    </tr>\n",
       "    <tr>\n",
       "      <th>5</th>\n",
       "      <td>4PS1e8f2LvuTFgUs1Cn3ON</td>\n",
       "      <td>The Christmas Song (Merry Christmas To You)</td>\n",
       "      <td>192160</td>\n",
       "      <td>1962</td>\n",
       "      <td>album</td>\n",
       "      <td>False</td>\n",
       "    </tr>\n",
       "    <tr>\n",
       "      <th>6</th>\n",
       "      <td>5ASM6Qjiav2xPe7gRkQMsQ</td>\n",
       "      <td>Sleigh Ride</td>\n",
       "      <td>181266</td>\n",
       "      <td>1963</td>\n",
       "      <td>compilation</td>\n",
       "      <td>False</td>\n",
       "    </tr>\n",
       "    <tr>\n",
       "      <th>7</th>\n",
       "      <td>46pF1zFimM582ss1PrMy68</td>\n",
       "      <td>Christmas (Baby Please Come Home)</td>\n",
       "      <td>166453</td>\n",
       "      <td>1963</td>\n",
       "      <td>compilation</td>\n",
       "      <td>False</td>\n",
       "    </tr>\n",
       "    <tr>\n",
       "      <th>8</th>\n",
       "      <td>7uyivkbdc8iH8wyBGBhlXV</td>\n",
       "      <td>One More Chance</td>\n",
       "      <td>229000</td>\n",
       "      <td>1979</td>\n",
       "      <td>compilation</td>\n",
       "      <td>False</td>\n",
       "    </tr>\n",
       "    <tr>\n",
       "      <th>9</th>\n",
       "      <td>2uX5f3x2cObov0iDAPln4o</td>\n",
       "      <td>Song of the South</td>\n",
       "      <td>190800</td>\n",
       "      <td>1980</td>\n",
       "      <td>album</td>\n",
       "      <td>False</td>\n",
       "    </tr>\n",
       "  </tbody>\n",
       "</table>\n",
       "</div>"
      ],
      "text/plain": [
       "                 track_id                                               name  \\\n",
       "0  5CMVGP24paZIukljDj0iWc           Jingle Bells (with The Ken Lane Singers)   \n",
       "1  25leEEaz1gIpp7o21Fqyjo  Here Comes Santa Claus (Right Down Santa Claus...   \n",
       "2  1dtIaSlyrLI04sqYa8nLyN                     Rudolph the Red-Nosed Reindeer   \n",
       "3  4PS1e8f2LvuTFgUs1Cn3ON        The Christmas Song (Merry Christmas To You)   \n",
       "4  4PS1e8f2LvuTFgUs1Cn3ON        The Christmas Song (Merry Christmas To You)   \n",
       "5  4PS1e8f2LvuTFgUs1Cn3ON        The Christmas Song (Merry Christmas To You)   \n",
       "6  5ASM6Qjiav2xPe7gRkQMsQ                                        Sleigh Ride   \n",
       "7  46pF1zFimM582ss1PrMy68                  Christmas (Baby Please Come Home)   \n",
       "8  7uyivkbdc8iH8wyBGBhlXV                                    One More Chance   \n",
       "9  2uX5f3x2cObov0iDAPln4o                                  Song of the South   \n",
       "\n",
       "   duration_ms release_date   album_type  explicit  \n",
       "0       156666         1945  compilation     False  \n",
       "1       150266         1947        album     False  \n",
       "2       186733         1947        album     False  \n",
       "3       192160         1962        album     False  \n",
       "4       192160         1962        album     False  \n",
       "5       192160         1962        album     False  \n",
       "6       181266         1963  compilation     False  \n",
       "7       166453         1963  compilation     False  \n",
       "8       229000         1979  compilation     False  \n",
       "9       190800         1980        album     False  "
      ]
     },
     "execution_count": 22,
     "metadata": {},
     "output_type": "execute_result"
    }
   ],
   "source": [
    "tracks = load_data(\"tracks\")\n",
    "tracks.head(10)"
   ]
  },
  {
   "cell_type": "code",
   "execution_count": 23,
   "id": "d1e357ac",
   "metadata": {},
   "outputs": [
    {
     "name": "stderr",
     "output_type": "stream",
     "text": [
      "/opt/anaconda3/lib/python3.12/site-packages/google/cloud/bigquery/table.py:1727: UserWarning: BigQuery Storage module not found, fetch data with the REST endpoint instead.\n",
      "  warnings.warn(\n"
     ]
    },
    {
     "data": {
      "text/html": [
       "<div>\n",
       "<style scoped>\n",
       "    .dataframe tbody tr th:only-of-type {\n",
       "        vertical-align: middle;\n",
       "    }\n",
       "\n",
       "    .dataframe tbody tr th {\n",
       "        vertical-align: top;\n",
       "    }\n",
       "\n",
       "    .dataframe thead th {\n",
       "        text-align: right;\n",
       "    }\n",
       "</style>\n",
       "<table border=\"1\" class=\"dataframe\">\n",
       "  <thead>\n",
       "    <tr style=\"text-align: right;\">\n",
       "      <th></th>\n",
       "      <th>artist_id</th>\n",
       "      <th>track_id</th>\n",
       "    </tr>\n",
       "  </thead>\n",
       "  <tbody>\n",
       "    <tr>\n",
       "      <th>0</th>\n",
       "      <td>artist_id</td>\n",
       "      <td>track_id</td>\n",
       "    </tr>\n",
       "    <tr>\n",
       "      <th>1</th>\n",
       "      <td>00FQb4jTyendYWaN8pK0wa</td>\n",
       "      <td>4zmKGsrXjLmljb5fTaBTot</td>\n",
       "    </tr>\n",
       "    <tr>\n",
       "      <th>2</th>\n",
       "      <td>00FQb4jTyendYWaN8pK0wa</td>\n",
       "      <td>6GGtHZgBycCgGBUhZo81xe</td>\n",
       "    </tr>\n",
       "    <tr>\n",
       "      <th>3</th>\n",
       "      <td>00FQb4jTyendYWaN8pK0wa</td>\n",
       "      <td>22DH8NChecsgPxDjA4pqer</td>\n",
       "    </tr>\n",
       "    <tr>\n",
       "      <th>4</th>\n",
       "      <td>00FQb4jTyendYWaN8pK0wa</td>\n",
       "      <td>7JVNRVPeXFAOdMrxOHNjVv</td>\n",
       "    </tr>\n",
       "    <tr>\n",
       "      <th>5</th>\n",
       "      <td>00FQb4jTyendYWaN8pK0wa</td>\n",
       "      <td>24jvD83UgLmrdGjhWTFslY</td>\n",
       "    </tr>\n",
       "    <tr>\n",
       "      <th>6</th>\n",
       "      <td>00FQb4jTyendYWaN8pK0wa</td>\n",
       "      <td>2nMeu6UenVvwUktBCpLMK9</td>\n",
       "    </tr>\n",
       "    <tr>\n",
       "      <th>7</th>\n",
       "      <td>00FQb4jTyendYWaN8pK0wa</td>\n",
       "      <td>6PUIzlqotEmPuBfjbwYWOB</td>\n",
       "    </tr>\n",
       "    <tr>\n",
       "      <th>8</th>\n",
       "      <td>00FQb4jTyendYWaN8pK0wa</td>\n",
       "      <td>5Y6nVaayzitvsD5F7nr3DV</td>\n",
       "    </tr>\n",
       "    <tr>\n",
       "      <th>9</th>\n",
       "      <td>00FQb4jTyendYWaN8pK0wa</td>\n",
       "      <td>4VSg5K1hnbmIg4PwRdY6wV</td>\n",
       "    </tr>\n",
       "  </tbody>\n",
       "</table>\n",
       "</div>"
      ],
      "text/plain": [
       "                artist_id                track_id\n",
       "0               artist_id                track_id\n",
       "1  00FQb4jTyendYWaN8pK0wa  4zmKGsrXjLmljb5fTaBTot\n",
       "2  00FQb4jTyendYWaN8pK0wa  6GGtHZgBycCgGBUhZo81xe\n",
       "3  00FQb4jTyendYWaN8pK0wa  22DH8NChecsgPxDjA4pqer\n",
       "4  00FQb4jTyendYWaN8pK0wa  7JVNRVPeXFAOdMrxOHNjVv\n",
       "5  00FQb4jTyendYWaN8pK0wa  24jvD83UgLmrdGjhWTFslY\n",
       "6  00FQb4jTyendYWaN8pK0wa  2nMeu6UenVvwUktBCpLMK9\n",
       "7  00FQb4jTyendYWaN8pK0wa  6PUIzlqotEmPuBfjbwYWOB\n",
       "8  00FQb4jTyendYWaN8pK0wa  5Y6nVaayzitvsD5F7nr3DV\n",
       "9  00FQb4jTyendYWaN8pK0wa  4VSg5K1hnbmIg4PwRdY6wV"
      ]
     },
     "execution_count": 23,
     "metadata": {},
     "output_type": "execute_result"
    }
   ],
   "source": [
    "tracks_artists_mapping = load_data(\"tracks_artists_mapping\")\n",
    "tracks_artists_mapping.head(10)"
   ]
  },
  {
   "cell_type": "code",
   "execution_count": 24,
   "id": "6076a10d",
   "metadata": {},
   "outputs": [
    {
     "data": {
      "text/plain": [
       "(10783, 13)"
      ]
     },
     "execution_count": 24,
     "metadata": {},
     "output_type": "execute_result"
    }
   ],
   "source": [
    "audio_features.shape"
   ]
  },
  {
   "cell_type": "code",
   "execution_count": 25,
   "id": "b0d4a607",
   "metadata": {},
   "outputs": [
    {
     "name": "stdout",
     "output_type": "stream",
     "text": [
      "<class 'pandas.core.frame.DataFrame'>\n",
      "RangeIndex: 10783 entries, 0 to 10782\n",
      "Data columns (total 13 columns):\n",
      " #   Column            Non-Null Count  Dtype  \n",
      "---  ------            --------------  -----  \n",
      " 0   track_id          10776 non-null  object \n",
      " 1   danceability      10776 non-null  float64\n",
      " 2   energy            10776 non-null  float64\n",
      " 3   key               10776 non-null  float64\n",
      " 4   loudness          10776 non-null  float64\n",
      " 5   mode              10776 non-null  float64\n",
      " 6   speechiness       10776 non-null  float64\n",
      " 7   acousticness      10776 non-null  float64\n",
      " 8   instrumentalness  10776 non-null  float64\n",
      " 9   liveness          10776 non-null  float64\n",
      " 10  valence           10776 non-null  float64\n",
      " 11  tempo             10776 non-null  float64\n",
      " 12  time_signature    10776 non-null  float64\n",
      "dtypes: float64(12), object(1)\n",
      "memory usage: 1.1+ MB\n"
     ]
    }
   ],
   "source": [
    "audio_features.info()"
   ]
  },
  {
   "cell_type": "code",
   "execution_count": 26,
   "id": "b1492926",
   "metadata": {},
   "outputs": [
    {
     "data": {
      "text/plain": [
       "Index(['track_id', 'danceability', 'energy', 'key', 'loudness', 'mode',\n",
       "       'speechiness', 'acousticness', 'instrumentalness', 'liveness',\n",
       "       'valence', 'tempo', 'time_signature'],\n",
       "      dtype='object')"
      ]
     },
     "execution_count": 26,
     "metadata": {},
     "output_type": "execute_result"
    }
   ],
   "source": [
    "audio_features.columns"
   ]
  },
  {
   "cell_type": "code",
   "execution_count": 27,
   "id": "7c053368",
   "metadata": {},
   "outputs": [
    {
     "data": {
      "text/html": [
       "<div>\n",
       "<style scoped>\n",
       "    .dataframe tbody tr th:only-of-type {\n",
       "        vertical-align: middle;\n",
       "    }\n",
       "\n",
       "    .dataframe tbody tr th {\n",
       "        vertical-align: top;\n",
       "    }\n",
       "\n",
       "    .dataframe thead th {\n",
       "        text-align: right;\n",
       "    }\n",
       "</style>\n",
       "<table border=\"1\" class=\"dataframe\">\n",
       "  <thead>\n",
       "    <tr style=\"text-align: right;\">\n",
       "      <th></th>\n",
       "      <th>track_id</th>\n",
       "      <th>danceability</th>\n",
       "      <th>energy</th>\n",
       "      <th>key</th>\n",
       "      <th>loudness</th>\n",
       "      <th>mode</th>\n",
       "      <th>speechiness</th>\n",
       "      <th>acousticness</th>\n",
       "      <th>instrumentalness</th>\n",
       "      <th>liveness</th>\n",
       "      <th>valence</th>\n",
       "      <th>tempo</th>\n",
       "      <th>time_signature</th>\n",
       "    </tr>\n",
       "  </thead>\n",
       "  <tbody>\n",
       "    <tr>\n",
       "      <th>0</th>\n",
       "      <td>None</td>\n",
       "      <td>NaN</td>\n",
       "      <td>NaN</td>\n",
       "      <td>NaN</td>\n",
       "      <td>NaN</td>\n",
       "      <td>NaN</td>\n",
       "      <td>NaN</td>\n",
       "      <td>NaN</td>\n",
       "      <td>NaN</td>\n",
       "      <td>NaN</td>\n",
       "      <td>NaN</td>\n",
       "      <td>NaN</td>\n",
       "      <td>NaN</td>\n",
       "    </tr>\n",
       "    <tr>\n",
       "      <th>1</th>\n",
       "      <td>None</td>\n",
       "      <td>NaN</td>\n",
       "      <td>NaN</td>\n",
       "      <td>NaN</td>\n",
       "      <td>NaN</td>\n",
       "      <td>NaN</td>\n",
       "      <td>NaN</td>\n",
       "      <td>NaN</td>\n",
       "      <td>NaN</td>\n",
       "      <td>NaN</td>\n",
       "      <td>NaN</td>\n",
       "      <td>NaN</td>\n",
       "      <td>NaN</td>\n",
       "    </tr>\n",
       "    <tr>\n",
       "      <th>2</th>\n",
       "      <td>None</td>\n",
       "      <td>NaN</td>\n",
       "      <td>NaN</td>\n",
       "      <td>NaN</td>\n",
       "      <td>NaN</td>\n",
       "      <td>NaN</td>\n",
       "      <td>NaN</td>\n",
       "      <td>NaN</td>\n",
       "      <td>NaN</td>\n",
       "      <td>NaN</td>\n",
       "      <td>NaN</td>\n",
       "      <td>NaN</td>\n",
       "      <td>NaN</td>\n",
       "    </tr>\n",
       "    <tr>\n",
       "      <th>3</th>\n",
       "      <td>None</td>\n",
       "      <td>NaN</td>\n",
       "      <td>NaN</td>\n",
       "      <td>NaN</td>\n",
       "      <td>NaN</td>\n",
       "      <td>NaN</td>\n",
       "      <td>NaN</td>\n",
       "      <td>NaN</td>\n",
       "      <td>NaN</td>\n",
       "      <td>NaN</td>\n",
       "      <td>NaN</td>\n",
       "      <td>NaN</td>\n",
       "      <td>NaN</td>\n",
       "    </tr>\n",
       "    <tr>\n",
       "      <th>4</th>\n",
       "      <td>None</td>\n",
       "      <td>NaN</td>\n",
       "      <td>NaN</td>\n",
       "      <td>NaN</td>\n",
       "      <td>NaN</td>\n",
       "      <td>NaN</td>\n",
       "      <td>NaN</td>\n",
       "      <td>NaN</td>\n",
       "      <td>NaN</td>\n",
       "      <td>NaN</td>\n",
       "      <td>NaN</td>\n",
       "      <td>NaN</td>\n",
       "      <td>NaN</td>\n",
       "    </tr>\n",
       "    <tr>\n",
       "      <th>5</th>\n",
       "      <td>None</td>\n",
       "      <td>NaN</td>\n",
       "      <td>NaN</td>\n",
       "      <td>NaN</td>\n",
       "      <td>NaN</td>\n",
       "      <td>NaN</td>\n",
       "      <td>NaN</td>\n",
       "      <td>NaN</td>\n",
       "      <td>NaN</td>\n",
       "      <td>NaN</td>\n",
       "      <td>NaN</td>\n",
       "      <td>NaN</td>\n",
       "      <td>NaN</td>\n",
       "    </tr>\n",
       "    <tr>\n",
       "      <th>6</th>\n",
       "      <td>None</td>\n",
       "      <td>NaN</td>\n",
       "      <td>NaN</td>\n",
       "      <td>NaN</td>\n",
       "      <td>NaN</td>\n",
       "      <td>NaN</td>\n",
       "      <td>NaN</td>\n",
       "      <td>NaN</td>\n",
       "      <td>NaN</td>\n",
       "      <td>NaN</td>\n",
       "      <td>NaN</td>\n",
       "      <td>NaN</td>\n",
       "      <td>NaN</td>\n",
       "    </tr>\n",
       "  </tbody>\n",
       "</table>\n",
       "</div>"
      ],
      "text/plain": [
       "  track_id  danceability  energy  key  loudness  mode  speechiness  \\\n",
       "0     None           NaN     NaN  NaN       NaN   NaN          NaN   \n",
       "1     None           NaN     NaN  NaN       NaN   NaN          NaN   \n",
       "2     None           NaN     NaN  NaN       NaN   NaN          NaN   \n",
       "3     None           NaN     NaN  NaN       NaN   NaN          NaN   \n",
       "4     None           NaN     NaN  NaN       NaN   NaN          NaN   \n",
       "5     None           NaN     NaN  NaN       NaN   NaN          NaN   \n",
       "6     None           NaN     NaN  NaN       NaN   NaN          NaN   \n",
       "\n",
       "   acousticness  instrumentalness  liveness  valence  tempo  time_signature  \n",
       "0           NaN               NaN       NaN      NaN    NaN             NaN  \n",
       "1           NaN               NaN       NaN      NaN    NaN             NaN  \n",
       "2           NaN               NaN       NaN      NaN    NaN             NaN  \n",
       "3           NaN               NaN       NaN      NaN    NaN             NaN  \n",
       "4           NaN               NaN       NaN      NaN    NaN             NaN  \n",
       "5           NaN               NaN       NaN      NaN    NaN             NaN  \n",
       "6           NaN               NaN       NaN      NaN    NaN             NaN  "
      ]
     },
     "execution_count": 27,
     "metadata": {},
     "output_type": "execute_result"
    }
   ],
   "source": [
    "# checking null data (for all column)\n",
    "audio_features.loc[audio_features.isnull().any(axis = 1)]"
   ]
  },
  {
   "cell_type": "code",
   "execution_count": 28,
   "id": "68548d19",
   "metadata": {},
   "outputs": [],
   "source": [
    "# drop NA for 7 rows \n",
    "audio_features.dropna(inplace = True)"
   ]
  },
  {
   "cell_type": "code",
   "execution_count": 29,
   "id": "aa0b52b5",
   "metadata": {},
   "outputs": [],
   "source": [
    "# Getting new dataset_without NA\n",
    "audio_features.reset_index(drop = True, inplace = True)"
   ]
  },
  {
   "cell_type": "code",
   "execution_count": 30,
   "id": "eaa6a14c",
   "metadata": {},
   "outputs": [],
   "source": [
    "# change data type from floats to int for three column - Key, Mode, Time-Signature\n",
    "audio_features[\"key\"]= audio_features[\"key\"].astype(int)\n",
    "audio_features[\"mode\"]= audio_features[\"mode\"].astype(int)\n",
    "audio_features[\"time_signature\"]= audio_features[\"time_signature\"].astype(int)\n"
   ]
  },
  {
   "cell_type": "code",
   "execution_count": 31,
   "id": "5fe4c3a9",
   "metadata": {},
   "outputs": [
    {
     "name": "stdout",
     "output_type": "stream",
     "text": [
      "<class 'pandas.core.frame.DataFrame'>\n",
      "RangeIndex: 11070 entries, 0 to 11069\n",
      "Data columns (total 6 columns):\n",
      " #   Column        Non-Null Count  Dtype  \n",
      "---  ------        --------------  -----  \n",
      " 0   track_id      11070 non-null  object \n",
      " 1   name          11070 non-null  object \n",
      " 2   duration_ms   11070 non-null  Int64  \n",
      " 3   release_date  11070 non-null  object \n",
      " 4   album_type    11070 non-null  object \n",
      " 5   explicit      11070 non-null  boolean\n",
      "dtypes: Int64(1), boolean(1), object(4)\n",
      "memory usage: 465.0+ KB\n"
     ]
    }
   ],
   "source": [
    "#Cleaning Tracks file / Check info first \n",
    "tracks.info()"
   ]
  },
  {
   "cell_type": "code",
   "execution_count": 32,
   "id": "af2c530b",
   "metadata": {},
   "outputs": [
    {
     "data": {
      "text/plain": [
       "release_date\n",
       "2013-01-01    153\n",
       "2011-01-01    130\n",
       "2009-01-01    127\n",
       "2006-01-01    125\n",
       "2010-01-01    116\n",
       "             ... \n",
       "2013-11-03      1\n",
       "2013-10-28      1\n",
       "2013-10-25      1\n",
       "2013-10-21      1\n",
       "2024-09-19      1\n",
       "Name: count, Length: 2440, dtype: int64"
      ]
     },
     "execution_count": 32,
     "metadata": {},
     "output_type": "execute_result"
    }
   ],
   "source": [
    "#checking date and count value in Release_date \n",
    "tracks[\"release_date\"].value_counts()"
   ]
  },
  {
   "cell_type": "code",
   "execution_count": 33,
   "id": "ad7382f2",
   "metadata": {},
   "outputs": [
    {
     "data": {
      "text/plain": [
       "array(['1945', '1947', '1962', ..., '2024-09-12', '2024-09-14',\n",
       "       '2024-09-19'], dtype=object)"
      ]
     },
     "execution_count": 33,
     "metadata": {},
     "output_type": "execute_result"
    }
   ],
   "source": [
    "# Checking Unique Date format \n",
    "tracks[\"release_date\"].unique()"
   ]
  },
  {
   "cell_type": "code",
   "execution_count": 34,
   "id": "4a09c3b3",
   "metadata": {},
   "outputs": [],
   "source": [
    "# Changing datetime format. However, It is the same. \n",
    "#  tracks[\"release_date\"] = pd.to_datetime(tracks[\"release_date\"], errors = \"coerce\")"
   ]
  },
  {
   "cell_type": "code",
   "execution_count": 35,
   "id": "7a479903",
   "metadata": {},
   "outputs": [
    {
     "data": {
      "text/plain": [
       "track_id        0\n",
       "name            0\n",
       "duration_ms     0\n",
       "release_date    0\n",
       "album_type      0\n",
       "explicit        0\n",
       "dtype: int64"
      ]
     },
     "execution_count": 35,
     "metadata": {},
     "output_type": "execute_result"
    }
   ],
   "source": [
    "# Checking Null data/ There is no null. \n",
    "tracks.isnull().sum()"
   ]
  },
  {
   "cell_type": "code",
   "execution_count": 36,
   "id": "023a0781",
   "metadata": {},
   "outputs": [
    {
     "name": "stdout",
     "output_type": "stream",
     "text": [
      "       year  month  day\n",
      "0      1945      0    0\n",
      "1      1947      0    0\n",
      "2      1947      0    0\n",
      "3      1962      0    0\n",
      "4      1962      0    0\n",
      "...     ...    ...  ...\n",
      "11065  2024     10    1\n",
      "11066  2024     10    1\n",
      "11067  2024     10    1\n",
      "11068  2024     10    4\n",
      "11069  2024     10   11\n",
      "\n",
      "[11070 rows x 3 columns]\n"
     ]
    }
   ],
   "source": [
    "# release date data to year colum\n",
    "def func(item):\n",
    "    day = item.split(\"-\")\n",
    "    if len(day) == 1:\n",
    "        return int(day[0]),0,0\n",
    "    elif len(day) == 2:\n",
    "        return int(day[0]), int(day[1]), 0\n",
    "    else:\n",
    "        return int(day[0]), int(day[1]), int(day[2])\n",
    "\n",
    "tracks[[\"year\",\"month\",\"day\"]] = tracks[\"release_date\"].apply(lambda x:pd.Series(func(x)))\n",
    "print(tracks[[\"year\",\"month\",\"day\"]])"
   ]
  },
  {
   "cell_type": "code",
   "execution_count": 37,
   "id": "bc94854b",
   "metadata": {},
   "outputs": [
    {
     "name": "stdout",
     "output_type": "stream",
     "text": [
      "<class 'pandas.core.frame.DataFrame'>\n",
      "RangeIndex: 11070 entries, 0 to 11069\n",
      "Data columns (total 9 columns):\n",
      " #   Column        Non-Null Count  Dtype  \n",
      "---  ------        --------------  -----  \n",
      " 0   track_id      11070 non-null  object \n",
      " 1   name          11070 non-null  object \n",
      " 2   duration_ms   11070 non-null  Int64  \n",
      " 3   release_date  11070 non-null  object \n",
      " 4   album_type    11070 non-null  object \n",
      " 5   explicit      11070 non-null  boolean\n",
      " 6   year          11070 non-null  int64  \n",
      " 7   month         11070 non-null  int64  \n",
      " 8   day           11070 non-null  int64  \n",
      "dtypes: Int64(1), boolean(1), int64(3), object(4)\n",
      "memory usage: 724.4+ KB\n"
     ]
    }
   ],
   "source": [
    "#Check data info again \n",
    "tracks.info()"
   ]
  },
  {
   "cell_type": "code",
   "execution_count": 38,
   "id": "326bee5e",
   "metadata": {},
   "outputs": [],
   "source": [
    "tracks.to_csv(\"tracks_update.csv\")"
   ]
  },
  {
   "cell_type": "code",
   "execution_count": 39,
   "id": "e132acd9",
   "metadata": {},
   "outputs": [
    {
     "data": {
      "text/plain": [
       "0       0\n",
       "1       0\n",
       "2       0\n",
       "3       0\n",
       "4       0\n",
       "       ..\n",
       "6914    0\n",
       "6915    0\n",
       "6916    0\n",
       "6917    0\n",
       "6918    0\n",
       "Name: month, Length: 416, dtype: int64"
      ]
     },
     "execution_count": 39,
     "metadata": {},
     "output_type": "execute_result"
    }
   ],
   "source": [
    "tracks.month.loc[tracks.month==0]\n"
   ]
  },
  {
   "cell_type": "code",
   "execution_count": 40,
   "id": "b66e4194",
   "metadata": {},
   "outputs": [
    {
     "data": {
      "text/plain": [
       "0        1945\n",
       "1        1947\n",
       "2        1947\n",
       "3        1962\n",
       "4        1962\n",
       "         ... \n",
       "11065    2024\n",
       "11066    2024\n",
       "11067    2024\n",
       "11068    2024\n",
       "11069    2024\n",
       "Name: year, Length: 11070, dtype: int64"
      ]
     },
     "execution_count": 40,
     "metadata": {},
     "output_type": "execute_result"
    }
   ],
   "source": [
    "tracks.year.loc[tracks.year!=0]"
   ]
  },
  {
   "cell_type": "code",
   "execution_count": 41,
   "id": "e25e5c77",
   "metadata": {},
   "outputs": [
    {
     "data": {
      "text/plain": [
       "349       1\n",
       "350       1\n",
       "351       1\n",
       "352      15\n",
       "353       2\n",
       "         ..\n",
       "11065     1\n",
       "11066     1\n",
       "11067     1\n",
       "11068     4\n",
       "11069    11\n",
       "Name: day, Length: 10652, dtype: int64"
      ]
     },
     "execution_count": 41,
     "metadata": {},
     "output_type": "execute_result"
    }
   ],
   "source": [
    "tracks.day.loc[tracks.day!=0]"
   ]
  },
  {
   "cell_type": "code",
   "execution_count": 42,
   "id": "ce2a4238",
   "metadata": {},
   "outputs": [
    {
     "name": "stdout",
     "output_type": "stream",
     "text": [
      "<class 'pandas.core.frame.DataFrame'>\n",
      "RangeIndex: 3108 entries, 0 to 3107\n",
      "Data columns (total 4 columns):\n",
      " #   Column      Non-Null Count  Dtype \n",
      "---  ------      --------------  ----- \n",
      " 0   artist_id   3108 non-null   object\n",
      " 1   name        3108 non-null   object\n",
      " 2   popularity  3108 non-null   Int64 \n",
      " 3   followers   3108 non-null   Int64 \n",
      "dtypes: Int64(2), object(2)\n",
      "memory usage: 103.3+ KB\n"
     ]
    }
   ],
   "source": [
    "# artists data cleaning/ checking info first / nothing need to change \n",
    "artists.info()"
   ]
  },
  {
   "cell_type": "code",
   "execution_count": 43,
   "id": "b7dc693c",
   "metadata": {},
   "outputs": [
    {
     "name": "stdout",
     "output_type": "stream",
     "text": [
      "<class 'pandas.core.frame.DataFrame'>\n",
      "RangeIndex: 15048 entries, 0 to 15047\n",
      "Data columns (total 2 columns):\n",
      " #   Column     Non-Null Count  Dtype \n",
      "---  ------     --------------  ----- \n",
      " 0   artist_id  15048 non-null  object\n",
      " 1   track_id   15048 non-null  object\n",
      "dtypes: object(2)\n",
      "memory usage: 235.3+ KB\n"
     ]
    }
   ],
   "source": [
    "# tracks_artists_mapping data cleaning/ checking info first / nothing need to change \n",
    "tracks_artists_mapping.info()"
   ]
  },
  {
   "cell_type": "code",
   "execution_count": 44,
   "id": "949f05ab",
   "metadata": {},
   "outputs": [
    {
     "name": "stdout",
     "output_type": "stream",
     "text": [
      "<class 'pandas.core.frame.DataFrame'>\n",
      "RangeIndex: 129305 entries, 0 to 129304\n",
      "Data columns (total 3 columns):\n",
      " #   Column         Non-Null Count   Dtype \n",
      "---  ------         --------------   ----- \n",
      " 0   chart_week     129305 non-null  dbdate\n",
      " 1   list_position  129305 non-null  Int64 \n",
      " 2   track_id       129305 non-null  object\n",
      "dtypes: Int64(1), dbdate(1), object(1)\n",
      "memory usage: 3.1+ MB\n"
     ]
    }
   ],
   "source": [
    "# chart_positions data cleaning/ checking info first / nothing need to change \n",
    "chart_positions.info()"
   ]
  },
  {
   "cell_type": "code",
   "execution_count": 45,
   "id": "628783d5",
   "metadata": {},
   "outputs": [],
   "source": [
    "# Merge Data for all data sets. \n",
    "master_data = tracks.merge(tracks_artists_mapping, on=\"track_id\").merge(artists, on=\"artist_id\").merge(chart_positions, on=\"track_id\").merge(audio_features, on=\"track_id\")"
   ]
  },
  {
   "cell_type": "code",
   "execution_count": 46,
   "id": "ae61776b",
   "metadata": {},
   "outputs": [
    {
     "data": {
      "text/plain": [
       "12837"
      ]
     },
     "execution_count": 46,
     "metadata": {},
     "output_type": "execute_result"
    }
   ],
   "source": [
    "# Checking dublicate/ how many\n",
    "master_data.duplicated().sum()"
   ]
  },
  {
   "cell_type": "code",
   "execution_count": 47,
   "id": "db8d3b14",
   "metadata": {},
   "outputs": [],
   "source": [
    "#remove dublicate from combine data\n",
    "master_data.drop_duplicates(inplace=True)\n",
    "master_data.reset_index(inplace=True)"
   ]
  },
  {
   "cell_type": "code",
   "execution_count": 48,
   "id": "a7854608",
   "metadata": {},
   "outputs": [
    {
     "name": "stdout",
     "output_type": "stream",
     "text": [
      "<class 'pandas.core.frame.DataFrame'>\n",
      "RangeIndex: 175449 entries, 0 to 175448\n",
      "Data columns (total 28 columns):\n",
      " #   Column            Non-Null Count   Dtype  \n",
      "---  ------            --------------   -----  \n",
      " 0   index             175449 non-null  int64  \n",
      " 1   track_id          175449 non-null  object \n",
      " 2   name_x            175449 non-null  object \n",
      " 3   duration_ms       175449 non-null  Int64  \n",
      " 4   release_date      175449 non-null  object \n",
      " 5   album_type        175449 non-null  object \n",
      " 6   explicit          175449 non-null  boolean\n",
      " 7   year              175449 non-null  int64  \n",
      " 8   month             175449 non-null  int64  \n",
      " 9   day               175449 non-null  int64  \n",
      " 10  artist_id         175449 non-null  object \n",
      " 11  name_y            175449 non-null  object \n",
      " 12  popularity        175449 non-null  Int64  \n",
      " 13  followers         175449 non-null  Int64  \n",
      " 14  chart_week        175449 non-null  dbdate \n",
      " 15  list_position     175449 non-null  Int64  \n",
      " 16  danceability      175449 non-null  float64\n",
      " 17  energy            175449 non-null  float64\n",
      " 18  key               175449 non-null  int64  \n",
      " 19  loudness          175449 non-null  float64\n",
      " 20  mode              175449 non-null  int64  \n",
      " 21  speechiness       175449 non-null  float64\n",
      " 22  acousticness      175449 non-null  float64\n",
      " 23  instrumentalness  175449 non-null  float64\n",
      " 24  liveness          175449 non-null  float64\n",
      " 25  valence           175449 non-null  float64\n",
      " 26  tempo             175449 non-null  float64\n",
      " 27  time_signature    175449 non-null  int64  \n",
      "dtypes: Int64(4), boolean(1), dbdate(1), float64(9), int64(7), object(6)\n",
      "memory usage: 37.1+ MB\n"
     ]
    }
   ],
   "source": [
    "# Checking combine dataset information \n",
    "master_data.info()"
   ]
  },
  {
   "cell_type": "code",
   "execution_count": 49,
   "id": "0f0ef764",
   "metadata": {},
   "outputs": [
    {
     "data": {
      "text/html": [
       "<div>\n",
       "<style scoped>\n",
       "    .dataframe tbody tr th:only-of-type {\n",
       "        vertical-align: middle;\n",
       "    }\n",
       "\n",
       "    .dataframe tbody tr th {\n",
       "        vertical-align: top;\n",
       "    }\n",
       "\n",
       "    .dataframe thead th {\n",
       "        text-align: right;\n",
       "    }\n",
       "</style>\n",
       "<table border=\"1\" class=\"dataframe\">\n",
       "  <thead>\n",
       "    <tr style=\"text-align: right;\">\n",
       "      <th></th>\n",
       "      <th>index</th>\n",
       "      <th>track_id</th>\n",
       "      <th>name_x</th>\n",
       "      <th>duration_ms</th>\n",
       "      <th>release_date</th>\n",
       "      <th>album_type</th>\n",
       "      <th>explicit</th>\n",
       "      <th>year</th>\n",
       "      <th>month</th>\n",
       "      <th>day</th>\n",
       "      <th>...</th>\n",
       "      <th>key</th>\n",
       "      <th>loudness</th>\n",
       "      <th>mode</th>\n",
       "      <th>speechiness</th>\n",
       "      <th>acousticness</th>\n",
       "      <th>instrumentalness</th>\n",
       "      <th>liveness</th>\n",
       "      <th>valence</th>\n",
       "      <th>tempo</th>\n",
       "      <th>time_signature</th>\n",
       "    </tr>\n",
       "  </thead>\n",
       "  <tbody>\n",
       "  </tbody>\n",
       "</table>\n",
       "<p>0 rows × 28 columns</p>\n",
       "</div>"
      ],
      "text/plain": [
       "Empty DataFrame\n",
       "Columns: [index, track_id, name_x, duration_ms, release_date, album_type, explicit, year, month, day, artist_id, name_y, popularity, followers, chart_week, list_position, danceability, energy, key, loudness, mode, speechiness, acousticness, instrumentalness, liveness, valence, tempo, time_signature]\n",
       "Index: []\n",
       "\n",
       "[0 rows x 28 columns]"
      ]
     },
     "execution_count": 49,
     "metadata": {},
     "output_type": "execute_result"
    }
   ],
   "source": [
    "# Checking null data in combine data. \n",
    "master_data.loc[master_data.isnull().any(axis = 1)]"
   ]
  },
  {
   "cell_type": "code",
   "execution_count": 50,
   "id": "c9fac733",
   "metadata": {},
   "outputs": [],
   "source": [
    "master_data.rename(columns={'name_x': 'track_name', 'name_y': 'artist_name'}, inplace=True)\n"
   ]
  },
  {
   "cell_type": "code",
   "execution_count": 51,
   "id": "e4ee6dc7",
   "metadata": {},
   "outputs": [
    {
     "name": "stdout",
     "output_type": "stream",
     "text": [
      "<class 'pandas.core.frame.DataFrame'>\n",
      "RangeIndex: 175449 entries, 0 to 175448\n",
      "Data columns (total 28 columns):\n",
      " #   Column            Non-Null Count   Dtype  \n",
      "---  ------            --------------   -----  \n",
      " 0   index             175449 non-null  int64  \n",
      " 1   track_id          175449 non-null  object \n",
      " 2   track_name        175449 non-null  object \n",
      " 3   duration_ms       175449 non-null  Int64  \n",
      " 4   release_date      175449 non-null  object \n",
      " 5   album_type        175449 non-null  object \n",
      " 6   explicit          175449 non-null  boolean\n",
      " 7   year              175449 non-null  int64  \n",
      " 8   month             175449 non-null  int64  \n",
      " 9   day               175449 non-null  int64  \n",
      " 10  artist_id         175449 non-null  object \n",
      " 11  artist_name       175449 non-null  object \n",
      " 12  popularity        175449 non-null  Int64  \n",
      " 13  followers         175449 non-null  Int64  \n",
      " 14  chart_week        175449 non-null  dbdate \n",
      " 15  list_position     175449 non-null  Int64  \n",
      " 16  danceability      175449 non-null  float64\n",
      " 17  energy            175449 non-null  float64\n",
      " 18  key               175449 non-null  int64  \n",
      " 19  loudness          175449 non-null  float64\n",
      " 20  mode              175449 non-null  int64  \n",
      " 21  speechiness       175449 non-null  float64\n",
      " 22  acousticness      175449 non-null  float64\n",
      " 23  instrumentalness  175449 non-null  float64\n",
      " 24  liveness          175449 non-null  float64\n",
      " 25  valence           175449 non-null  float64\n",
      " 26  tempo             175449 non-null  float64\n",
      " 27  time_signature    175449 non-null  int64  \n",
      "dtypes: Int64(4), boolean(1), dbdate(1), float64(9), int64(7), object(6)\n",
      "memory usage: 37.1+ MB\n"
     ]
    }
   ],
   "source": [
    "master_data.info()"
   ]
  },
  {
   "cell_type": "code",
   "execution_count": 52,
   "id": "6bbc4e7d",
   "metadata": {},
   "outputs": [
    {
     "data": {
      "text/plain": [
       "Index(['index', 'track_id', 'track_name', 'duration_ms', 'release_date',\n",
       "       'album_type', 'explicit', 'year', 'month', 'day', 'artist_id',\n",
       "       'artist_name', 'popularity', 'followers', 'chart_week', 'list_position',\n",
       "       'danceability', 'energy', 'key', 'loudness', 'mode', 'speechiness',\n",
       "       'acousticness', 'instrumentalness', 'liveness', 'valence', 'tempo',\n",
       "       'time_signature'],\n",
       "      dtype='object')"
      ]
     },
     "execution_count": 52,
     "metadata": {},
     "output_type": "execute_result"
    }
   ],
   "source": [
    "master_data.columns\n"
   ]
  },
  {
   "cell_type": "code",
   "execution_count": null,
   "id": "eea95ac8",
   "metadata": {},
   "outputs": [],
   "source": []
  }
 ],
 "metadata": {
  "kernelspec": {
   "display_name": "base",
   "language": "python",
   "name": "python3"
  },
  "language_info": {
   "codemirror_mode": {
    "name": "ipython",
    "version": 3
   },
   "file_extension": ".py",
   "mimetype": "text/x-python",
   "name": "python",
   "nbconvert_exporter": "python",
   "pygments_lexer": "ipython3",
   "version": "3.12.7"
  }
 },
 "nbformat": 4,
 "nbformat_minor": 5
}
