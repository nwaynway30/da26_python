{
 "cells": [
  {
   "cell_type": "code",
   "execution_count": 1,
   "metadata": {},
   "outputs": [],
   "source": [
    "from google.cloud import bigquery\n",
    "from google.auth import load_credentials_from_file\n",
    "from google.cloud.bigquery import Client\n",
    "import pandas as pd\n",
    "import streamlit as st\n",
    "import plotly.express as px\n",
    "import plotly.graph_objects as go\n",
    "from datetime import datetime"
   ]
  },
  {
   "cell_type": "code",
   "execution_count": 3,
   "metadata": {},
   "outputs": [],
   "source": [
    "# load BigQuery credentials and data\n",
    "# ILENIA\n",
    "credentials, project_id = load_credentials_from_file(\"/Users/ileniamolinacasanovas/Hyper Island/group sprint/service_account.json\")\n",
    "\n",
    "client = Client(\n",
    "    project=project_id,\n",
    "    credentials=credentials\n",
    ")"
   ]
  },
  {
   "cell_type": "code",
   "execution_count": 4,
   "metadata": {},
   "outputs": [],
   "source": [
    "# load data function\n",
    "def load_data(table):\n",
    "    query = f\"SELECT * FROM `da26-python.music_data.{table}`\"\n",
    "    load_job = client.query(query)\n",
    "    return load_job.to_dataframe()"
   ]
  },
  {
   "cell_type": "code",
   "execution_count": 5,
   "metadata": {},
   "outputs": [],
   "source": [
    "# Data Processing Functions\n",
    "def load_and_merge_data():\n",
    "    # Load all dataframes\n",
    "    audio_features = load_data(\"audio_features\")\n",
    "    chart_positions = load_data(\"chart_positions\")\n",
    "    artists = load_data(\"artists\")\n",
    "    tracks = load_data(\"tracks\")\n",
    "    tracks_artists = load_data(\"tracks_artists_mapping\")"
   ]
  },
  {
   "cell_type": "code",
   "execution_count": 7,
   "metadata": {},
   "outputs": [
    {
     "ename": "NameError",
     "evalue": "name 'tracks' is not defined",
     "output_type": "error",
     "traceback": [
      "\u001b[0;31m---------------------------------------------------------------------------\u001b[0m",
      "\u001b[0;31mNameError\u001b[0m                                 Traceback (most recent call last)",
      "Cell \u001b[0;32mIn[7], line 3\u001b[0m\n\u001b[1;32m      1\u001b[0m \u001b[38;5;66;03m# merge songs data with audio features and chart positions\u001b[39;00m\n\u001b[1;32m      2\u001b[0m songs \u001b[38;5;241m=\u001b[39m (\n\u001b[0;32m----> 3\u001b[0m         tracks\n\u001b[1;32m      4\u001b[0m         \u001b[38;5;241m.\u001b[39mmerge(audio_features, on\u001b[38;5;241m=\u001b[39m\u001b[38;5;124m'\u001b[39m\u001b[38;5;124mtrack_id\u001b[39m\u001b[38;5;124m'\u001b[39m, how\u001b[38;5;241m=\u001b[39m\u001b[38;5;124m'\u001b[39m\u001b[38;5;124mleft\u001b[39m\u001b[38;5;124m'\u001b[39m)\n\u001b[1;32m      5\u001b[0m         \u001b[38;5;241m.\u001b[39mmerge(chart_positions, on\u001b[38;5;241m=\u001b[39m\u001b[38;5;124m'\u001b[39m\u001b[38;5;124mtrack_id\u001b[39m\u001b[38;5;124m'\u001b[39m, how\u001b[38;5;241m=\u001b[39m\u001b[38;5;124m'\u001b[39m\u001b[38;5;124mleft\u001b[39m\u001b[38;5;124m'\u001b[39m)\n\u001b[1;32m      6\u001b[0m     )\n",
      "\u001b[0;31mNameError\u001b[0m: name 'tracks' is not defined"
     ]
    }
   ],
   "source": [
    "# merge songs data with audio features and chart positions\n",
    "songs = (\n",
    "        tracks\n",
    "        .merge(audio_features, on='track_id', how='left')\n",
    "        .merge(chart_positions, on='track_id', how='left')\n",
    "    )"
   ]
  },
  {
   "cell_type": "code",
   "execution_count": null,
   "metadata": {},
   "outputs": [],
   "source": []
  }
 ],
 "metadata": {
  "kernelspec": {
   "display_name": "base",
   "language": "python",
   "name": "python3"
  },
  "language_info": {
   "codemirror_mode": {
    "name": "ipython",
    "version": 3
   },
   "file_extension": ".py",
   "mimetype": "text/x-python",
   "name": "python",
   "nbconvert_exporter": "python",
   "pygments_lexer": "ipython3",
   "version": "3.12.7"
  }
 },
 "nbformat": 4,
 "nbformat_minor": 2
}
