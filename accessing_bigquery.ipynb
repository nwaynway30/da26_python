{
 "cells": [
  {
   "cell_type": "code",
   "execution_count": 13,
   "id": "889f7edd-a697-4452-a893-9b2296df752e",
   "metadata": {
    "collapsed": true,
    "jupyter": {
     "outputs_hidden": true
    }
   },
   "outputs": [
    {
     "name": "stdout",
     "output_type": "stream",
     "text": [
      "Requirement already satisfied: google-cloud in /opt/anaconda3/lib/python3.12/site-packages (0.34.0)\n",
      "Requirement already satisfied: google-cloud-bigquery in /opt/anaconda3/lib/python3.12/site-packages (3.27.0)\n",
      "Requirement already satisfied: google-auth in /opt/anaconda3/lib/python3.12/site-packages (2.37.0)\n",
      "Requirement already satisfied: google-api-core<3.0.0dev,>=2.11.1 in /opt/anaconda3/lib/python3.12/site-packages (from google-api-core[grpc]<3.0.0dev,>=2.11.1->google-cloud-bigquery) (2.24.0)\n",
      "Requirement already satisfied: google-cloud-core<3.0.0dev,>=2.4.1 in /opt/anaconda3/lib/python3.12/site-packages (from google-cloud-bigquery) (2.4.1)\n",
      "Requirement already satisfied: google-resumable-media<3.0dev,>=2.0.0 in /opt/anaconda3/lib/python3.12/site-packages (from google-cloud-bigquery) (2.7.2)\n",
      "Requirement already satisfied: packaging>=20.0.0 in /opt/anaconda3/lib/python3.12/site-packages (from google-cloud-bigquery) (24.2)\n",
      "Requirement already satisfied: python-dateutil<3.0dev,>=2.7.3 in /opt/anaconda3/lib/python3.12/site-packages (from google-cloud-bigquery) (2.9.0.post0)\n",
      "Requirement already satisfied: requests<3.0.0dev,>=2.21.0 in /opt/anaconda3/lib/python3.12/site-packages (from google-cloud-bigquery) (2.32.3)\n",
      "Requirement already satisfied: cachetools<6.0,>=2.0.0 in /opt/anaconda3/lib/python3.12/site-packages (from google-auth) (5.5.0)\n",
      "Requirement already satisfied: pyasn1-modules>=0.2.1 in /opt/anaconda3/lib/python3.12/site-packages (from google-auth) (0.2.8)\n",
      "Requirement already satisfied: rsa<5,>=3.1.4 in /opt/anaconda3/lib/python3.12/site-packages (from google-auth) (4.9)\n",
      "Requirement already satisfied: googleapis-common-protos<2.0.dev0,>=1.56.2 in /opt/anaconda3/lib/python3.12/site-packages (from google-api-core<3.0.0dev,>=2.11.1->google-api-core[grpc]<3.0.0dev,>=2.11.1->google-cloud-bigquery) (1.66.0)\n",
      "Requirement already satisfied: protobuf!=3.20.0,!=3.20.1,!=4.21.0,!=4.21.1,!=4.21.2,!=4.21.3,!=4.21.4,!=4.21.5,<6.0.0.dev0,>=3.19.5 in /opt/anaconda3/lib/python3.12/site-packages (from google-api-core<3.0.0dev,>=2.11.1->google-api-core[grpc]<3.0.0dev,>=2.11.1->google-cloud-bigquery) (5.29.3)\n",
      "Requirement already satisfied: proto-plus<2.0.0dev,>=1.22.3 in /opt/anaconda3/lib/python3.12/site-packages (from google-api-core<3.0.0dev,>=2.11.1->google-api-core[grpc]<3.0.0dev,>=2.11.1->google-cloud-bigquery) (1.25.0)\n",
      "Requirement already satisfied: grpcio<2.0dev,>=1.33.2 in /opt/anaconda3/lib/python3.12/site-packages (from google-api-core[grpc]<3.0.0dev,>=2.11.1->google-cloud-bigquery) (1.69.0)\n",
      "Requirement already satisfied: grpcio-status<2.0.dev0,>=1.33.2 in /opt/anaconda3/lib/python3.12/site-packages (from google-api-core[grpc]<3.0.0dev,>=2.11.1->google-cloud-bigquery) (1.69.0)\n",
      "Requirement already satisfied: google-crc32c<2.0dev,>=1.0 in /opt/anaconda3/lib/python3.12/site-packages (from google-resumable-media<3.0dev,>=2.0.0->google-cloud-bigquery) (1.6.0)\n",
      "Requirement already satisfied: pyasn1<0.5.0,>=0.4.6 in /opt/anaconda3/lib/python3.12/site-packages (from pyasn1-modules>=0.2.1->google-auth) (0.4.8)\n",
      "Requirement already satisfied: six>=1.5 in /opt/anaconda3/lib/python3.12/site-packages (from python-dateutil<3.0dev,>=2.7.3->google-cloud-bigquery) (1.17.0)\n",
      "Requirement already satisfied: charset-normalizer<4,>=2 in /opt/anaconda3/lib/python3.12/site-packages (from requests<3.0.0dev,>=2.21.0->google-cloud-bigquery) (3.4.1)\n",
      "Requirement already satisfied: idna<4,>=2.5 in /opt/anaconda3/lib/python3.12/site-packages (from requests<3.0.0dev,>=2.21.0->google-cloud-bigquery) (3.10)\n",
      "Requirement already satisfied: urllib3<3,>=1.21.1 in /opt/anaconda3/lib/python3.12/site-packages (from requests<3.0.0dev,>=2.21.0->google-cloud-bigquery) (2.3.0)\n",
      "Requirement already satisfied: certifi>=2017.4.17 in /opt/anaconda3/lib/python3.12/site-packages (from requests<3.0.0dev,>=2.21.0->google-cloud-bigquery) (2024.12.14)\n",
      "Note: you may need to restart the kernel to use updated packages.\n"
     ]
    }
   ],
   "source": [
    "%pip install google-cloud google-cloud-bigquery google-auth"
   ]
  },
  {
   "cell_type": "code",
   "execution_count": 2,
   "id": "18b04a21-f972-434c-8481-ead45eb79652",
   "metadata": {},
   "outputs": [],
   "source": [
    "from google.auth import load_credentials_from_file\n",
    "from google.cloud.bigquery import Client"
   ]
  },
  {
   "cell_type": "code",
   "execution_count": 3,
   "id": "4be73167-85c2-42ee-97c6-5385d3f6f30e",
   "metadata": {},
   "outputs": [],
   "source": [
    "credentials, project_id = load_credentials_from_file('service_account.json')"
   ]
  },
  {
   "cell_type": "code",
   "execution_count": 4,
   "id": "0bb91d95-3456-4ab1-be37-2ca0c1d2dcca",
   "metadata": {},
   "outputs": [],
   "source": [
    "# Load data from BigQuery\n",
    "client = Client(\n",
    "    project = project_id,\n",
    "    credentials=credentials\n",
    ")"
   ]
  },
  {
   "cell_type": "code",
   "execution_count": 5,
   "id": "82f4acb9-c74b-4a26-b8a8-22a4731b02c2",
   "metadata": {},
   "outputs": [
    {
     "data": {
      "text/plain": [
       "google.cloud.bigquery.client.Client"
      ]
     },
     "execution_count": 5,
     "metadata": {},
     "output_type": "execute_result"
    }
   ],
   "source": [
    "type(client)"
   ]
  },
  {
   "cell_type": "code",
   "execution_count": 6,
   "id": "51b83e9f-94a7-46b1-8532-c12835f33429",
   "metadata": {},
   "outputs": [
    {
     "name": "stdout",
     "output_type": "stream",
     "text": [
      "Tables contained in 'music_data':\n",
      "da26-python.music_data.artists\n",
      "da26-python.music_data.audio_features\n",
      "da26-python.music_data.chart_positions\n",
      "da26-python.music_data.tracks\n",
      "da26-python.music_data.tracks_artists_mapping\n"
     ]
    }
   ],
   "source": [
    "# This is how to list the tables\n",
    "database_id = \"music_data\"\n",
    "tables = client.list_tables(database_id)\n",
    "\n",
    "print(f\"Tables contained in '{database_id}':\")\n",
    "for table in tables:\n",
    "    print(f\"{table.project}.{table.dataset_id}.{table.table_id}\")"
   ]
  },
  {
   "cell_type": "markdown",
   "id": "24b89348-8dcb-4e15-9649-97e7a2bcbb7c",
   "metadata": {},
   "source": [
    "### Loading data from the tables"
   ]
  },
  {
   "cell_type": "code",
   "execution_count": 7,
   "id": "5a7d847f-b181-41ac-a3e5-be743fd4a569",
   "metadata": {},
   "outputs": [],
   "source": [
    "query = \"SELECT * FROM `da26-python.music_data.tracks`\""
   ]
  },
  {
   "cell_type": "code",
   "execution_count": 8,
   "id": "7f1532c4-66dd-4519-a4a3-e667b3449c88",
   "metadata": {},
   "outputs": [],
   "source": [
    "load_job = client.query(query)"
   ]
  },
  {
   "cell_type": "code",
   "execution_count": 9,
   "id": "06d4af90-224b-43e0-b795-0371dc29f138",
   "metadata": {},
   "outputs": [
    {
     "name": "stderr",
     "output_type": "stream",
     "text": [
      "/opt/anaconda3/lib/python3.12/site-packages/google/cloud/bigquery/table.py:1727: UserWarning: BigQuery Storage module not found, fetch data with the REST endpoint instead.\n",
      "  warnings.warn(\n"
     ]
    }
   ],
   "source": [
    "data = load_job.to_dataframe()"
   ]
  },
  {
   "cell_type": "code",
   "execution_count": 10,
   "id": "cc64fde7-fc35-4335-8129-86c896ce537a",
   "metadata": {},
   "outputs": [],
   "source": [
    "def load_data(table):\n",
    "    query = f\"SELECT * FROM `da26-python.music_data.{table}`\"\n",
    "    load_job = client.query(query)\n",
    "    data = load_job.to_dataframe()\n",
    "    return data"
   ]
  },
  {
   "cell_type": "code",
   "execution_count": 11,
   "id": "75a34409-4ee2-4b6a-9266-bcdbed0fa069",
   "metadata": {},
   "outputs": [],
   "source": [
    "audio_features = load_data(\"audio_features\")"
   ]
  },
  {
   "cell_type": "code",
   "execution_count": 12,
   "id": "4fe8cd6e-6195-4be2-824f-2aa2d803a98e",
   "metadata": {},
   "outputs": [
    {
     "data": {
      "text/html": [
       "<div>\n",
       "<style scoped>\n",
       "    .dataframe tbody tr th:only-of-type {\n",
       "        vertical-align: middle;\n",
       "    }\n",
       "\n",
       "    .dataframe tbody tr th {\n",
       "        vertical-align: top;\n",
       "    }\n",
       "\n",
       "    .dataframe thead th {\n",
       "        text-align: right;\n",
       "    }\n",
       "</style>\n",
       "<table border=\"1\" class=\"dataframe\">\n",
       "  <thead>\n",
       "    <tr style=\"text-align: right;\">\n",
       "      <th></th>\n",
       "      <th>track_id</th>\n",
       "      <th>danceability</th>\n",
       "      <th>energy</th>\n",
       "      <th>key</th>\n",
       "      <th>loudness</th>\n",
       "      <th>mode</th>\n",
       "      <th>speechiness</th>\n",
       "      <th>acousticness</th>\n",
       "      <th>instrumentalness</th>\n",
       "      <th>liveness</th>\n",
       "      <th>valence</th>\n",
       "      <th>tempo</th>\n",
       "      <th>time_signature</th>\n",
       "    </tr>\n",
       "  </thead>\n",
       "  <tbody>\n",
       "    <tr>\n",
       "      <th>8437</th>\n",
       "      <td>0NBHHa8wwwmBnn3aAzX5wJ</td>\n",
       "      <td>0.668</td>\n",
       "      <td>0.626</td>\n",
       "      <td>6.0</td>\n",
       "      <td>-10.488</td>\n",
       "      <td>0.0</td>\n",
       "      <td>0.0655</td>\n",
       "      <td>0.0971</td>\n",
       "      <td>0.000052</td>\n",
       "      <td>0.1110</td>\n",
       "      <td>0.7820</td>\n",
       "      <td>186.085</td>\n",
       "      <td>4.0</td>\n",
       "    </tr>\n",
       "    <tr>\n",
       "      <th>7145</th>\n",
       "      <td>0mvtBgpiAg6fPg7ec7lxE9</td>\n",
       "      <td>0.508</td>\n",
       "      <td>0.318</td>\n",
       "      <td>8.0</td>\n",
       "      <td>-9.911</td>\n",
       "      <td>1.0</td>\n",
       "      <td>0.0365</td>\n",
       "      <td>0.7590</td>\n",
       "      <td>0.000000</td>\n",
       "      <td>0.1840</td>\n",
       "      <td>0.1410</td>\n",
       "      <td>122.040</td>\n",
       "      <td>4.0</td>\n",
       "    </tr>\n",
       "    <tr>\n",
       "      <th>6066</th>\n",
       "      <td>2LBqCSwhJGcFQeTHMVGwy3</td>\n",
       "      <td>0.586</td>\n",
       "      <td>0.525</td>\n",
       "      <td>1.0</td>\n",
       "      <td>-7.163</td>\n",
       "      <td>0.0</td>\n",
       "      <td>0.0615</td>\n",
       "      <td>0.1110</td>\n",
       "      <td>0.000000</td>\n",
       "      <td>0.1340</td>\n",
       "      <td>0.5080</td>\n",
       "      <td>133.629</td>\n",
       "      <td>4.0</td>\n",
       "    </tr>\n",
       "    <tr>\n",
       "      <th>3895</th>\n",
       "      <td>4lcXNTm9JrQpJYXqsENmFI</td>\n",
       "      <td>0.487</td>\n",
       "      <td>0.667</td>\n",
       "      <td>7.0</td>\n",
       "      <td>-4.216</td>\n",
       "      <td>0.0</td>\n",
       "      <td>0.0309</td>\n",
       "      <td>0.1530</td>\n",
       "      <td>0.000000</td>\n",
       "      <td>0.1610</td>\n",
       "      <td>0.4630</td>\n",
       "      <td>145.854</td>\n",
       "      <td>4.0</td>\n",
       "    </tr>\n",
       "    <tr>\n",
       "      <th>2360</th>\n",
       "      <td>5MxFWjuqQIsbNWbMdMdbli</td>\n",
       "      <td>0.713</td>\n",
       "      <td>0.703</td>\n",
       "      <td>8.0</td>\n",
       "      <td>-5.769</td>\n",
       "      <td>1.0</td>\n",
       "      <td>0.1940</td>\n",
       "      <td>0.2980</td>\n",
       "      <td>0.000000</td>\n",
       "      <td>0.3210</td>\n",
       "      <td>0.5760</td>\n",
       "      <td>123.060</td>\n",
       "      <td>4.0</td>\n",
       "    </tr>\n",
       "    <tr>\n",
       "      <th>174</th>\n",
       "      <td>7mOYvqE4mvNWW0Oe3O9DxG</td>\n",
       "      <td>0.369</td>\n",
       "      <td>0.397</td>\n",
       "      <td>0.0</td>\n",
       "      <td>-12.737</td>\n",
       "      <td>1.0</td>\n",
       "      <td>0.0496</td>\n",
       "      <td>0.8060</td>\n",
       "      <td>0.000486</td>\n",
       "      <td>0.4410</td>\n",
       "      <td>0.2980</td>\n",
       "      <td>145.850</td>\n",
       "      <td>4.0</td>\n",
       "    </tr>\n",
       "    <tr>\n",
       "      <th>5758</th>\n",
       "      <td>6q5nAr2JniAHj1gKheejE0</td>\n",
       "      <td>0.610</td>\n",
       "      <td>0.690</td>\n",
       "      <td>11.0</td>\n",
       "      <td>-7.157</td>\n",
       "      <td>1.0</td>\n",
       "      <td>0.0378</td>\n",
       "      <td>0.4630</td>\n",
       "      <td>0.040900</td>\n",
       "      <td>0.0842</td>\n",
       "      <td>0.4620</td>\n",
       "      <td>118.038</td>\n",
       "      <td>4.0</td>\n",
       "    </tr>\n",
       "    <tr>\n",
       "      <th>7975</th>\n",
       "      <td>5j0McHPthKpOXRr3fBq8M0</td>\n",
       "      <td>0.573</td>\n",
       "      <td>0.712</td>\n",
       "      <td>0.0</td>\n",
       "      <td>-5.976</td>\n",
       "      <td>1.0</td>\n",
       "      <td>0.0732</td>\n",
       "      <td>0.0572</td>\n",
       "      <td>0.000000</td>\n",
       "      <td>0.1670</td>\n",
       "      <td>0.3460</td>\n",
       "      <td>140.012</td>\n",
       "      <td>4.0</td>\n",
       "    </tr>\n",
       "    <tr>\n",
       "      <th>6762</th>\n",
       "      <td>65kp3OFn7JXbCvkm3m2Ui2</td>\n",
       "      <td>0.266</td>\n",
       "      <td>0.642</td>\n",
       "      <td>7.0</td>\n",
       "      <td>-5.133</td>\n",
       "      <td>1.0</td>\n",
       "      <td>0.0694</td>\n",
       "      <td>0.4240</td>\n",
       "      <td>0.000000</td>\n",
       "      <td>0.0943</td>\n",
       "      <td>0.0371</td>\n",
       "      <td>75.022</td>\n",
       "      <td>4.0</td>\n",
       "    </tr>\n",
       "    <tr>\n",
       "      <th>6665</th>\n",
       "      <td>4Tc9PHEoeP17PQj3OOKXPu</td>\n",
       "      <td>0.794</td>\n",
       "      <td>0.792</td>\n",
       "      <td>7.0</td>\n",
       "      <td>-6.889</td>\n",
       "      <td>1.0</td>\n",
       "      <td>0.1860</td>\n",
       "      <td>0.2200</td>\n",
       "      <td>0.000000</td>\n",
       "      <td>0.0998</td>\n",
       "      <td>0.5460</td>\n",
       "      <td>126.994</td>\n",
       "      <td>4.0</td>\n",
       "    </tr>\n",
       "  </tbody>\n",
       "</table>\n",
       "</div>"
      ],
      "text/plain": [
       "                    track_id  danceability  energy   key  loudness  mode  \\\n",
       "8437  0NBHHa8wwwmBnn3aAzX5wJ         0.668   0.626   6.0   -10.488   0.0   \n",
       "7145  0mvtBgpiAg6fPg7ec7lxE9         0.508   0.318   8.0    -9.911   1.0   \n",
       "6066  2LBqCSwhJGcFQeTHMVGwy3         0.586   0.525   1.0    -7.163   0.0   \n",
       "3895  4lcXNTm9JrQpJYXqsENmFI         0.487   0.667   7.0    -4.216   0.0   \n",
       "2360  5MxFWjuqQIsbNWbMdMdbli         0.713   0.703   8.0    -5.769   1.0   \n",
       "174   7mOYvqE4mvNWW0Oe3O9DxG         0.369   0.397   0.0   -12.737   1.0   \n",
       "5758  6q5nAr2JniAHj1gKheejE0         0.610   0.690  11.0    -7.157   1.0   \n",
       "7975  5j0McHPthKpOXRr3fBq8M0         0.573   0.712   0.0    -5.976   1.0   \n",
       "6762  65kp3OFn7JXbCvkm3m2Ui2         0.266   0.642   7.0    -5.133   1.0   \n",
       "6665  4Tc9PHEoeP17PQj3OOKXPu         0.794   0.792   7.0    -6.889   1.0   \n",
       "\n",
       "      speechiness  acousticness  instrumentalness  liveness  valence    tempo  \\\n",
       "8437       0.0655        0.0971          0.000052    0.1110   0.7820  186.085   \n",
       "7145       0.0365        0.7590          0.000000    0.1840   0.1410  122.040   \n",
       "6066       0.0615        0.1110          0.000000    0.1340   0.5080  133.629   \n",
       "3895       0.0309        0.1530          0.000000    0.1610   0.4630  145.854   \n",
       "2360       0.1940        0.2980          0.000000    0.3210   0.5760  123.060   \n",
       "174        0.0496        0.8060          0.000486    0.4410   0.2980  145.850   \n",
       "5758       0.0378        0.4630          0.040900    0.0842   0.4620  118.038   \n",
       "7975       0.0732        0.0572          0.000000    0.1670   0.3460  140.012   \n",
       "6762       0.0694        0.4240          0.000000    0.0943   0.0371   75.022   \n",
       "6665       0.1860        0.2200          0.000000    0.0998   0.5460  126.994   \n",
       "\n",
       "      time_signature  \n",
       "8437             4.0  \n",
       "7145             4.0  \n",
       "6066             4.0  \n",
       "3895             4.0  \n",
       "2360             4.0  \n",
       "174              4.0  \n",
       "5758             4.0  \n",
       "7975             4.0  \n",
       "6762             4.0  \n",
       "6665             4.0  "
      ]
     },
     "execution_count": 12,
     "metadata": {},
     "output_type": "execute_result"
    }
   ],
   "source": [
    "audio_features.sample(10)"
   ]
  },
  {
   "cell_type": "code",
   "execution_count": null,
   "id": "ad158982-5dfe-44ab-83f5-554ecaf24d4a",
   "metadata": {},
   "outputs": [],
   "source": []
  },
  {
   "cell_type": "code",
   "execution_count": null,
   "id": "0eee5b1b",
   "metadata": {},
   "outputs": [],
   "source": []
  }
 ],
 "metadata": {
  "kernelspec": {
   "display_name": "base",
   "language": "python",
   "name": "python3"
  },
  "language_info": {
   "codemirror_mode": {
    "name": "ipython",
    "version": 3
   },
   "file_extension": ".py",
   "mimetype": "text/x-python",
   "name": "python",
   "nbconvert_exporter": "python",
   "pygments_lexer": "ipython3",
   "version": "3.12.7"
  }
 },
 "nbformat": 4,
 "nbformat_minor": 5
}
