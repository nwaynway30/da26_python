{
 "cells": [
  {
   "cell_type": "code",
   "execution_count": 5,
   "id": "889f7edd-a697-4452-a893-9b2296df752e",
   "metadata": {
    "collapsed": true,
    "jupyter": {
     "outputs_hidden": true
    }
   },
   "outputs": [
    {
     "name": "stdout",
     "output_type": "stream",
     "text": [
      "Collecting google-cloud\n",
      "  Using cached google_cloud-0.34.0-py2.py3-none-any.whl.metadata (2.7 kB)\n",
      "Requirement already satisfied: google-cloud-bigquery in /opt/anaconda3/lib/python3.12/site-packages (3.26.0)\n",
      "Requirement already satisfied: google-auth in /opt/anaconda3/lib/python3.12/site-packages (2.36.0)\n",
      "Requirement already satisfied: google-api-core<3.0.0dev,>=2.11.1 in /opt/anaconda3/lib/python3.12/site-packages (from google-api-core[grpc]<3.0.0dev,>=2.11.1->google-cloud-bigquery) (2.22.0)\n",
      "Requirement already satisfied: google-cloud-core<3.0.0dev,>=2.4.1 in /opt/anaconda3/lib/python3.12/site-packages (from google-cloud-bigquery) (2.4.1)\n",
      "Requirement already satisfied: google-resumable-media<3.0dev,>=2.0.0 in /opt/anaconda3/lib/python3.12/site-packages (from google-cloud-bigquery) (2.7.2)\n",
      "Requirement already satisfied: packaging>=20.0.0 in /opt/anaconda3/lib/python3.12/site-packages (from google-cloud-bigquery) (24.1)\n",
      "Requirement already satisfied: python-dateutil<3.0dev,>=2.7.3 in /opt/anaconda3/lib/python3.12/site-packages (from google-cloud-bigquery) (2.9.0.post0)\n",
      "Requirement already satisfied: requests<3.0.0dev,>=2.21.0 in /opt/anaconda3/lib/python3.12/site-packages (from google-cloud-bigquery) (2.32.3)\n",
      "Requirement already satisfied: cachetools<6.0,>=2.0.0 in /opt/anaconda3/lib/python3.12/site-packages (from google-auth) (5.3.3)\n",
      "Requirement already satisfied: pyasn1-modules>=0.2.1 in /opt/anaconda3/lib/python3.12/site-packages (from google-auth) (0.2.8)\n",
      "Requirement already satisfied: rsa<5,>=3.1.4 in /opt/anaconda3/lib/python3.12/site-packages (from google-auth) (4.9)\n",
      "Requirement already satisfied: googleapis-common-protos<2.0.dev0,>=1.56.2 in /opt/anaconda3/lib/python3.12/site-packages (from google-api-core<3.0.0dev,>=2.11.1->google-api-core[grpc]<3.0.0dev,>=2.11.1->google-cloud-bigquery) (1.65.0)\n",
      "Requirement already satisfied: protobuf!=3.20.0,!=3.20.1,!=4.21.0,!=4.21.1,!=4.21.2,!=4.21.3,!=4.21.4,!=4.21.5,<6.0.0.dev0,>=3.19.5 in /opt/anaconda3/lib/python3.12/site-packages (from google-api-core<3.0.0dev,>=2.11.1->google-api-core[grpc]<3.0.0dev,>=2.11.1->google-cloud-bigquery) (5.28.3)\n",
      "Requirement already satisfied: proto-plus<2.0.0dev,>=1.22.3 in /opt/anaconda3/lib/python3.12/site-packages (from google-api-core<3.0.0dev,>=2.11.1->google-api-core[grpc]<3.0.0dev,>=2.11.1->google-cloud-bigquery) (1.25.0)\n",
      "Requirement already satisfied: grpcio<2.0dev,>=1.33.2 in /opt/anaconda3/lib/python3.12/site-packages (from google-api-core[grpc]<3.0.0dev,>=2.11.1->google-cloud-bigquery) (1.67.1)\n",
      "Requirement already satisfied: grpcio-status<2.0.dev0,>=1.33.2 in /opt/anaconda3/lib/python3.12/site-packages (from google-api-core[grpc]<3.0.0dev,>=2.11.1->google-cloud-bigquery) (1.67.1)\n",
      "Requirement already satisfied: google-crc32c<2.0dev,>=1.0 in /opt/anaconda3/lib/python3.12/site-packages (from google-resumable-media<3.0dev,>=2.0.0->google-cloud-bigquery) (1.6.0)\n",
      "Requirement already satisfied: pyasn1<0.5.0,>=0.4.6 in /opt/anaconda3/lib/python3.12/site-packages (from pyasn1-modules>=0.2.1->google-auth) (0.4.8)\n",
      "Requirement already satisfied: six>=1.5 in /opt/anaconda3/lib/python3.12/site-packages (from python-dateutil<3.0dev,>=2.7.3->google-cloud-bigquery) (1.16.0)\n",
      "Requirement already satisfied: charset-normalizer<4,>=2 in /opt/anaconda3/lib/python3.12/site-packages (from requests<3.0.0dev,>=2.21.0->google-cloud-bigquery) (3.3.2)\n",
      "Requirement already satisfied: idna<4,>=2.5 in /opt/anaconda3/lib/python3.12/site-packages (from requests<3.0.0dev,>=2.21.0->google-cloud-bigquery) (3.7)\n",
      "Requirement already satisfied: urllib3<3,>=1.21.1 in /opt/anaconda3/lib/python3.12/site-packages (from requests<3.0.0dev,>=2.21.0->google-cloud-bigquery) (2.2.3)\n",
      "Requirement already satisfied: certifi>=2017.4.17 in /opt/anaconda3/lib/python3.12/site-packages (from requests<3.0.0dev,>=2.21.0->google-cloud-bigquery) (2024.8.30)\n",
      "Using cached google_cloud-0.34.0-py2.py3-none-any.whl (1.8 kB)\n",
      "Installing collected packages: google-cloud\n",
      "Successfully installed google-cloud-0.34.0\n"
     ]
    }
   ],
   "source": [
    "!pip install google-cloud google-cloud-bigquery google-auth"
   ]
  },
  {
   "cell_type": "code",
   "execution_count": 7,
   "id": "18b04a21-f972-434c-8481-ead45eb79652",
   "metadata": {},
   "outputs": [],
   "source": [
    "from google.auth import load_credentials_from_file\n",
    "from google.cloud.bigquery import Client"
   ]
  },
  {
   "cell_type": "code",
   "execution_count": 15,
   "id": "4be73167-85c2-42ee-97c6-5385d3f6f30e",
   "metadata": {},
   "outputs": [],
   "source": [
    "credentials, project_id = load_credentials_from_file('service_account.json')"
   ]
  },
  {
   "cell_type": "code",
   "execution_count": 23,
   "id": "0bb91d95-3456-4ab1-be37-2ca0c1d2dcca",
   "metadata": {},
   "outputs": [],
   "source": [
    "# Load data from BigQuery\n",
    "client = Client(\n",
    "    project = project_id,\n",
    "    credentials=credentials\n",
    ")"
   ]
  },
  {
   "cell_type": "code",
   "execution_count": 25,
   "id": "82f4acb9-c74b-4a26-b8a8-22a4731b02c2",
   "metadata": {},
   "outputs": [
    {
     "data": {
      "text/plain": [
       "google.cloud.bigquery.client.Client"
      ]
     },
     "execution_count": 25,
     "metadata": {},
     "output_type": "execute_result"
    }
   ],
   "source": [
    "type(client)"
   ]
  },
  {
   "cell_type": "code",
   "execution_count": 87,
   "id": "51b83e9f-94a7-46b1-8532-c12835f33429",
   "metadata": {},
   "outputs": [
    {
     "name": "stdout",
     "output_type": "stream",
     "text": [
      "Tables contained in 'music_data':\n",
      "da26-python.music_data.artists\n",
      "da26-python.music_data.audio_features\n",
      "da26-python.music_data.chart_positions\n",
      "da26-python.music_data.tracks\n",
      "da26-python.music_data.tracks_artists_mapping\n"
     ]
    }
   ],
   "source": [
    "# This is how to list the tables\n",
    "database_id = \"music_data\"\n",
    "tables = client.list_tables(database_id)\n",
    "\n",
    "print(f\"Tables contained in '{database_id}':\")\n",
    "for table in tables:\n",
    "    print(f\"{table.project}.{table.dataset_id}.{table.table_id}\")"
   ]
  },
  {
   "cell_type": "markdown",
   "id": "24b89348-8dcb-4e15-9649-97e7a2bcbb7c",
   "metadata": {},
   "source": [
    "### Loading data from the tables"
   ]
  },
  {
   "cell_type": "code",
   "execution_count": 47,
   "id": "5a7d847f-b181-41ac-a3e5-be743fd4a569",
   "metadata": {},
   "outputs": [],
   "source": [
    "query = \"SELECT * FROM `da26-python.music_data.tracks`\""
   ]
  },
  {
   "cell_type": "code",
   "execution_count": 49,
   "id": "7f1532c4-66dd-4519-a4a3-e667b3449c88",
   "metadata": {},
   "outputs": [],
   "source": [
    "load_job = client.query(query)"
   ]
  },
  {
   "cell_type": "code",
   "execution_count": 53,
   "id": "06d4af90-224b-43e0-b795-0371dc29f138",
   "metadata": {},
   "outputs": [],
   "source": [
    "data = load_job.to_dataframe()"
   ]
  },
  {
   "cell_type": "code",
   "execution_count": 57,
   "id": "cc64fde7-fc35-4335-8129-86c896ce537a",
   "metadata": {},
   "outputs": [],
   "source": [
    "def load_data(table):\n",
    "    query = f\"SELECT * FROM `da26-python.music_data.{table}`\"\n",
    "    load_job = client.query(query)\n",
    "    data = load_job.to_dataframe()\n",
    "    return data"
   ]
  },
  {
   "cell_type": "code",
   "execution_count": 65,
   "id": "75a34409-4ee2-4b6a-9266-bcdbed0fa069",
   "metadata": {},
   "outputs": [],
   "source": [
    "audio_features = load_data(\"audio_features\")"
   ]
  },
  {
   "cell_type": "code",
   "execution_count": 73,
   "id": "4fe8cd6e-6195-4be2-824f-2aa2d803a98e",
   "metadata": {},
   "outputs": [
    {
     "data": {
      "text/html": [
       "<div>\n",
       "<style scoped>\n",
       "    .dataframe tbody tr th:only-of-type {\n",
       "        vertical-align: middle;\n",
       "    }\n",
       "\n",
       "    .dataframe tbody tr th {\n",
       "        vertical-align: top;\n",
       "    }\n",
       "\n",
       "    .dataframe thead th {\n",
       "        text-align: right;\n",
       "    }\n",
       "</style>\n",
       "<table border=\"1\" class=\"dataframe\">\n",
       "  <thead>\n",
       "    <tr style=\"text-align: right;\">\n",
       "      <th></th>\n",
       "      <th>track_id</th>\n",
       "      <th>danceability</th>\n",
       "      <th>energy</th>\n",
       "      <th>key</th>\n",
       "      <th>loudness</th>\n",
       "      <th>mode</th>\n",
       "      <th>speechiness</th>\n",
       "      <th>acousticness</th>\n",
       "      <th>instrumentalness</th>\n",
       "      <th>liveness</th>\n",
       "      <th>valence</th>\n",
       "      <th>tempo</th>\n",
       "      <th>time_signature</th>\n",
       "    </tr>\n",
       "  </thead>\n",
       "  <tbody>\n",
       "    <tr>\n",
       "      <th>7853</th>\n",
       "      <td>6PRh0ilIMEP1xlUHqalnkD</td>\n",
       "      <td>0.835</td>\n",
       "      <td>0.659</td>\n",
       "      <td>4.0</td>\n",
       "      <td>-5.696</td>\n",
       "      <td>1.0</td>\n",
       "      <td>0.3100</td>\n",
       "      <td>0.012300</td>\n",
       "      <td>0.000000</td>\n",
       "      <td>0.372</td>\n",
       "      <td>0.5790</td>\n",
       "      <td>129.930</td>\n",
       "      <td>4.0</td>\n",
       "    </tr>\n",
       "    <tr>\n",
       "      <th>8664</th>\n",
       "      <td>6DuRbVj7iCZeMuMYldivIQ</td>\n",
       "      <td>0.450</td>\n",
       "      <td>0.758</td>\n",
       "      <td>11.0</td>\n",
       "      <td>-4.142</td>\n",
       "      <td>1.0</td>\n",
       "      <td>0.0504</td>\n",
       "      <td>0.280000</td>\n",
       "      <td>0.000000</td>\n",
       "      <td>0.153</td>\n",
       "      <td>0.3870</td>\n",
       "      <td>174.003</td>\n",
       "      <td>4.0</td>\n",
       "    </tr>\n",
       "    <tr>\n",
       "      <th>1120</th>\n",
       "      <td>38GNzMraWWHDqmxgWEuHWe</td>\n",
       "      <td>0.803</td>\n",
       "      <td>0.463</td>\n",
       "      <td>1.0</td>\n",
       "      <td>-13.944</td>\n",
       "      <td>0.0</td>\n",
       "      <td>0.0676</td>\n",
       "      <td>0.045600</td>\n",
       "      <td>0.000151</td>\n",
       "      <td>0.176</td>\n",
       "      <td>0.0651</td>\n",
       "      <td>101.986</td>\n",
       "      <td>4.0</td>\n",
       "    </tr>\n",
       "    <tr>\n",
       "      <th>9471</th>\n",
       "      <td>0nprj2O0teCglthuhzTG5o</td>\n",
       "      <td>0.596</td>\n",
       "      <td>0.921</td>\n",
       "      <td>7.0</td>\n",
       "      <td>-4.987</td>\n",
       "      <td>1.0</td>\n",
       "      <td>0.0504</td>\n",
       "      <td>0.022100</td>\n",
       "      <td>0.000000</td>\n",
       "      <td>0.303</td>\n",
       "      <td>0.7030</td>\n",
       "      <td>104.024</td>\n",
       "      <td>4.0</td>\n",
       "    </tr>\n",
       "    <tr>\n",
       "      <th>16</th>\n",
       "      <td>44Du2IM1bGY7dicmLfXbUs</td>\n",
       "      <td>0.500</td>\n",
       "      <td>0.449</td>\n",
       "      <td>0.0</td>\n",
       "      <td>-10.977</td>\n",
       "      <td>1.0</td>\n",
       "      <td>0.4420</td>\n",
       "      <td>0.422000</td>\n",
       "      <td>0.000008</td>\n",
       "      <td>0.115</td>\n",
       "      <td>0.1040</td>\n",
       "      <td>144.206</td>\n",
       "      <td>1.0</td>\n",
       "    </tr>\n",
       "    <tr>\n",
       "      <th>4655</th>\n",
       "      <td>16oi4OiKmkO51l60F5R9kR</td>\n",
       "      <td>0.932</td>\n",
       "      <td>0.578</td>\n",
       "      <td>9.0</td>\n",
       "      <td>-4.478</td>\n",
       "      <td>1.0</td>\n",
       "      <td>0.3660</td>\n",
       "      <td>0.115000</td>\n",
       "      <td>0.000000</td>\n",
       "      <td>0.115</td>\n",
       "      <td>0.6230</td>\n",
       "      <td>129.991</td>\n",
       "      <td>4.0</td>\n",
       "    </tr>\n",
       "    <tr>\n",
       "      <th>1544</th>\n",
       "      <td>3y1t2sEahs8idFz2tiYNPO</td>\n",
       "      <td>0.523</td>\n",
       "      <td>0.834</td>\n",
       "      <td>6.0</td>\n",
       "      <td>-3.561</td>\n",
       "      <td>1.0</td>\n",
       "      <td>0.0281</td>\n",
       "      <td>0.254000</td>\n",
       "      <td>0.000000</td>\n",
       "      <td>0.393</td>\n",
       "      <td>0.4450</td>\n",
       "      <td>92.990</td>\n",
       "      <td>4.0</td>\n",
       "    </tr>\n",
       "    <tr>\n",
       "      <th>3641</th>\n",
       "      <td>05mDaV9Vb3wrzjF6OPZnhq</td>\n",
       "      <td>0.617</td>\n",
       "      <td>0.684</td>\n",
       "      <td>0.0</td>\n",
       "      <td>-3.618</td>\n",
       "      <td>1.0</td>\n",
       "      <td>0.0439</td>\n",
       "      <td>0.054500</td>\n",
       "      <td>0.000000</td>\n",
       "      <td>0.104</td>\n",
       "      <td>0.2950</td>\n",
       "      <td>132.113</td>\n",
       "      <td>4.0</td>\n",
       "    </tr>\n",
       "    <tr>\n",
       "      <th>8637</th>\n",
       "      <td>4LvH604nVCMVGlNbjx3Gnk</td>\n",
       "      <td>0.781</td>\n",
       "      <td>0.784</td>\n",
       "      <td>10.0</td>\n",
       "      <td>-5.047</td>\n",
       "      <td>0.0</td>\n",
       "      <td>0.1300</td>\n",
       "      <td>0.077400</td>\n",
       "      <td>0.000000</td>\n",
       "      <td>0.365</td>\n",
       "      <td>0.7380</td>\n",
       "      <td>125.029</td>\n",
       "      <td>4.0</td>\n",
       "    </tr>\n",
       "    <tr>\n",
       "      <th>117</th>\n",
       "      <td>0B6hj1IxHLIAhVBxt828KY</td>\n",
       "      <td>0.619</td>\n",
       "      <td>0.870</td>\n",
       "      <td>8.0</td>\n",
       "      <td>-5.888</td>\n",
       "      <td>1.0</td>\n",
       "      <td>0.0372</td>\n",
       "      <td>0.000288</td>\n",
       "      <td>0.802000</td>\n",
       "      <td>0.119</td>\n",
       "      <td>0.4580</td>\n",
       "      <td>121.962</td>\n",
       "      <td>4.0</td>\n",
       "    </tr>\n",
       "  </tbody>\n",
       "</table>\n",
       "</div>"
      ],
      "text/plain": [
       "                    track_id  danceability  energy   key  loudness  mode  \\\n",
       "7853  6PRh0ilIMEP1xlUHqalnkD         0.835   0.659   4.0    -5.696   1.0   \n",
       "8664  6DuRbVj7iCZeMuMYldivIQ         0.450   0.758  11.0    -4.142   1.0   \n",
       "1120  38GNzMraWWHDqmxgWEuHWe         0.803   0.463   1.0   -13.944   0.0   \n",
       "9471  0nprj2O0teCglthuhzTG5o         0.596   0.921   7.0    -4.987   1.0   \n",
       "16    44Du2IM1bGY7dicmLfXbUs         0.500   0.449   0.0   -10.977   1.0   \n",
       "4655  16oi4OiKmkO51l60F5R9kR         0.932   0.578   9.0    -4.478   1.0   \n",
       "1544  3y1t2sEahs8idFz2tiYNPO         0.523   0.834   6.0    -3.561   1.0   \n",
       "3641  05mDaV9Vb3wrzjF6OPZnhq         0.617   0.684   0.0    -3.618   1.0   \n",
       "8637  4LvH604nVCMVGlNbjx3Gnk         0.781   0.784  10.0    -5.047   0.0   \n",
       "117   0B6hj1IxHLIAhVBxt828KY         0.619   0.870   8.0    -5.888   1.0   \n",
       "\n",
       "      speechiness  acousticness  instrumentalness  liveness  valence    tempo  \\\n",
       "7853       0.3100      0.012300          0.000000     0.372   0.5790  129.930   \n",
       "8664       0.0504      0.280000          0.000000     0.153   0.3870  174.003   \n",
       "1120       0.0676      0.045600          0.000151     0.176   0.0651  101.986   \n",
       "9471       0.0504      0.022100          0.000000     0.303   0.7030  104.024   \n",
       "16         0.4420      0.422000          0.000008     0.115   0.1040  144.206   \n",
       "4655       0.3660      0.115000          0.000000     0.115   0.6230  129.991   \n",
       "1544       0.0281      0.254000          0.000000     0.393   0.4450   92.990   \n",
       "3641       0.0439      0.054500          0.000000     0.104   0.2950  132.113   \n",
       "8637       0.1300      0.077400          0.000000     0.365   0.7380  125.029   \n",
       "117        0.0372      0.000288          0.802000     0.119   0.4580  121.962   \n",
       "\n",
       "      time_signature  \n",
       "7853             4.0  \n",
       "8664             4.0  \n",
       "1120             4.0  \n",
       "9471             4.0  \n",
       "16               1.0  \n",
       "4655             4.0  \n",
       "1544             4.0  \n",
       "3641             4.0  \n",
       "8637             4.0  \n",
       "117              4.0  "
      ]
     },
     "execution_count": 73,
     "metadata": {},
     "output_type": "execute_result"
    }
   ],
   "source": [
    "audio_features.sample(10)"
   ]
  },
  {
   "cell_type": "code",
   "execution_count": null,
   "id": "ad158982-5dfe-44ab-83f5-554ecaf24d4a",
   "metadata": {},
   "outputs": [],
   "source": []
  }
 ],
 "metadata": {
  "kernelspec": {
   "display_name": "Python 3 (ipykernel)",
   "language": "python",
   "name": "python3"
  },
  "language_info": {
   "codemirror_mode": {
    "name": "ipython",
    "version": 3
   },
   "file_extension": ".py",
   "mimetype": "text/x-python",
   "name": "python",
   "nbconvert_exporter": "python",
   "pygments_lexer": "ipython3",
   "version": "3.12.2"
  }
 },
 "nbformat": 4,
 "nbformat_minor": 5
}
