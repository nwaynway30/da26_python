{
 "cells": [
  {
   "cell_type": "markdown",
   "id": "63c14f7d",
   "metadata": {},
   "source": [
    "# Accessing Bigquery"
   ]
  },
  {
   "cell_type": "code",
   "execution_count": 9,
   "id": "889f7edd-a697-4452-a893-9b2296df752e",
   "metadata": {
    "collapsed": true,
    "jupyter": {
     "outputs_hidden": true
    }
   },
   "outputs": [
    {
     "name": "stdout",
     "output_type": "stream",
     "text": [
      "Requirement already satisfied: google-cloud in /opt/anaconda3/lib/python3.12/site-packages (0.34.0)\n",
      "Requirement already satisfied: google-cloud-bigquery in /opt/anaconda3/lib/python3.12/site-packages (3.27.0)\n",
      "Requirement already satisfied: google-auth in /opt/anaconda3/lib/python3.12/site-packages (2.37.0)\n",
      "Requirement already satisfied: google-api-core<3.0.0dev,>=2.11.1 in /opt/anaconda3/lib/python3.12/site-packages (from google-api-core[grpc]<3.0.0dev,>=2.11.1->google-cloud-bigquery) (2.24.0)\n",
      "Requirement already satisfied: google-cloud-core<3.0.0dev,>=2.4.1 in /opt/anaconda3/lib/python3.12/site-packages (from google-cloud-bigquery) (2.4.1)\n",
      "Requirement already satisfied: google-resumable-media<3.0dev,>=2.0.0 in /opt/anaconda3/lib/python3.12/site-packages (from google-cloud-bigquery) (2.7.2)\n",
      "Requirement already satisfied: packaging>=20.0.0 in /opt/anaconda3/lib/python3.12/site-packages (from google-cloud-bigquery) (24.2)\n",
      "Requirement already satisfied: python-dateutil<3.0dev,>=2.7.3 in /opt/anaconda3/lib/python3.12/site-packages (from google-cloud-bigquery) (2.9.0.post0)\n",
      "Requirement already satisfied: requests<3.0.0dev,>=2.21.0 in /opt/anaconda3/lib/python3.12/site-packages (from google-cloud-bigquery) (2.32.3)\n",
      "Requirement already satisfied: cachetools<6.0,>=2.0.0 in /opt/anaconda3/lib/python3.12/site-packages (from google-auth) (5.5.0)\n",
      "Requirement already satisfied: pyasn1-modules>=0.2.1 in /opt/anaconda3/lib/python3.12/site-packages (from google-auth) (0.2.8)\n",
      "Requirement already satisfied: rsa<5,>=3.1.4 in /opt/anaconda3/lib/python3.12/site-packages (from google-auth) (4.9)\n",
      "Requirement already satisfied: googleapis-common-protos<2.0.dev0,>=1.56.2 in /opt/anaconda3/lib/python3.12/site-packages (from google-api-core<3.0.0dev,>=2.11.1->google-api-core[grpc]<3.0.0dev,>=2.11.1->google-cloud-bigquery) (1.66.0)\n",
      "Requirement already satisfied: protobuf!=3.20.0,!=3.20.1,!=4.21.0,!=4.21.1,!=4.21.2,!=4.21.3,!=4.21.4,!=4.21.5,<6.0.0.dev0,>=3.19.5 in /opt/anaconda3/lib/python3.12/site-packages (from google-api-core<3.0.0dev,>=2.11.1->google-api-core[grpc]<3.0.0dev,>=2.11.1->google-cloud-bigquery) (5.29.3)\n",
      "Requirement already satisfied: proto-plus<2.0.0dev,>=1.22.3 in /opt/anaconda3/lib/python3.12/site-packages (from google-api-core<3.0.0dev,>=2.11.1->google-api-core[grpc]<3.0.0dev,>=2.11.1->google-cloud-bigquery) (1.25.0)\n",
      "Requirement already satisfied: grpcio<2.0dev,>=1.33.2 in /opt/anaconda3/lib/python3.12/site-packages (from google-api-core[grpc]<3.0.0dev,>=2.11.1->google-cloud-bigquery) (1.69.0)\n",
      "Requirement already satisfied: grpcio-status<2.0.dev0,>=1.33.2 in /opt/anaconda3/lib/python3.12/site-packages (from google-api-core[grpc]<3.0.0dev,>=2.11.1->google-cloud-bigquery) (1.69.0)\n",
      "Requirement already satisfied: google-crc32c<2.0dev,>=1.0 in /opt/anaconda3/lib/python3.12/site-packages (from google-resumable-media<3.0dev,>=2.0.0->google-cloud-bigquery) (1.6.0)\n",
      "Requirement already satisfied: pyasn1<0.5.0,>=0.4.6 in /opt/anaconda3/lib/python3.12/site-packages (from pyasn1-modules>=0.2.1->google-auth) (0.4.8)\n",
      "Requirement already satisfied: six>=1.5 in /opt/anaconda3/lib/python3.12/site-packages (from python-dateutil<3.0dev,>=2.7.3->google-cloud-bigquery) (1.17.0)\n",
      "Requirement already satisfied: charset-normalizer<4,>=2 in /opt/anaconda3/lib/python3.12/site-packages (from requests<3.0.0dev,>=2.21.0->google-cloud-bigquery) (3.4.1)\n",
      "Requirement already satisfied: idna<4,>=2.5 in /opt/anaconda3/lib/python3.12/site-packages (from requests<3.0.0dev,>=2.21.0->google-cloud-bigquery) (3.10)\n",
      "Requirement already satisfied: urllib3<3,>=1.21.1 in /opt/anaconda3/lib/python3.12/site-packages (from requests<3.0.0dev,>=2.21.0->google-cloud-bigquery) (2.3.0)\n",
      "Requirement already satisfied: certifi>=2017.4.17 in /opt/anaconda3/lib/python3.12/site-packages (from requests<3.0.0dev,>=2.21.0->google-cloud-bigquery) (2024.12.14)\n",
      "Note: you may need to restart the kernel to use updated packages.\n"
     ]
    }
   ],
   "source": [
    "%pip install google-cloud google-cloud-bigquery google-auth"
   ]
  },
  {
   "cell_type": "code",
   "execution_count": 10,
   "id": "18b04a21-f972-434c-8481-ead45eb79652",
   "metadata": {},
   "outputs": [],
   "source": [
    "from google.auth import load_credentials_from_file\n",
    "from google.cloud.bigquery import Client"
   ]
  },
  {
   "cell_type": "code",
   "execution_count": 11,
   "id": "4be73167-85c2-42ee-97c6-5385d3f6f30e",
   "metadata": {},
   "outputs": [],
   "source": [
    "credentials, project_id = load_credentials_from_file('service_account.json')"
   ]
  },
  {
   "cell_type": "code",
   "execution_count": 12,
   "id": "0bb91d95-3456-4ab1-be37-2ca0c1d2dcca",
   "metadata": {},
   "outputs": [],
   "source": [
    "# Load data from BigQuery\n",
    "client = Client(\n",
    "    project = project_id,\n",
    "    credentials=credentials\n",
    ")"
   ]
  },
  {
   "cell_type": "code",
   "execution_count": 13,
   "id": "82f4acb9-c74b-4a26-b8a8-22a4731b02c2",
   "metadata": {},
   "outputs": [
    {
     "data": {
      "text/plain": [
       "google.cloud.bigquery.client.Client"
      ]
     },
     "execution_count": 13,
     "metadata": {},
     "output_type": "execute_result"
    }
   ],
   "source": [
    "type(client)"
   ]
  },
  {
   "cell_type": "code",
   "execution_count": 14,
   "id": "51b83e9f-94a7-46b1-8532-c12835f33429",
   "metadata": {},
   "outputs": [
    {
     "name": "stdout",
     "output_type": "stream",
     "text": [
      "Tables contained in 'music_data':\n",
      "da26-python.music_data.artists\n",
      "da26-python.music_data.audio_features\n",
      "da26-python.music_data.chart_positions\n",
      "da26-python.music_data.tracks\n",
      "da26-python.music_data.tracks_artists_mapping\n"
     ]
    }
   ],
   "source": [
    "# This is how to list the tables\n",
    "database_id = \"music_data\"\n",
    "tables = client.list_tables(database_id)\n",
    "\n",
    "print(f\"Tables contained in '{database_id}':\")\n",
    "for table in tables:\n",
    "    print(f\"{table.project}.{table.dataset_id}.{table.table_id}\")"
   ]
  },
  {
   "cell_type": "markdown",
   "id": "24b89348-8dcb-4e15-9649-97e7a2bcbb7c",
   "metadata": {},
   "source": [
    "### Loading data from the tables"
   ]
  },
  {
   "cell_type": "code",
   "execution_count": 15,
   "id": "5a7d847f-b181-41ac-a3e5-be743fd4a569",
   "metadata": {},
   "outputs": [],
   "source": [
    "query = \"SELECT * FROM `da26-python.music_data.tracks`\""
   ]
  },
  {
   "cell_type": "code",
   "execution_count": 16,
   "id": "7f1532c4-66dd-4519-a4a3-e667b3449c88",
   "metadata": {},
   "outputs": [],
   "source": [
    "load_job = client.query(query)"
   ]
  },
  {
   "cell_type": "code",
   "execution_count": 17,
   "id": "06d4af90-224b-43e0-b795-0371dc29f138",
   "metadata": {},
   "outputs": [
    {
     "name": "stderr",
     "output_type": "stream",
     "text": [
      "/opt/anaconda3/lib/python3.12/site-packages/google/cloud/bigquery/table.py:1727: UserWarning: BigQuery Storage module not found, fetch data with the REST endpoint instead.\n",
      "  warnings.warn(\n"
     ]
    }
   ],
   "source": [
    "data = load_job.to_dataframe()"
   ]
  },
  {
   "cell_type": "code",
   "execution_count": 18,
   "id": "cc64fde7-fc35-4335-8129-86c896ce537a",
   "metadata": {},
   "outputs": [],
   "source": [
    "def load_data(table):\n",
    "    query = f\"SELECT * FROM `da26-python.music_data.{table}`\"\n",
    "    load_job = client.query(query)\n",
    "    data = load_job.to_dataframe()\n",
    "    return data"
   ]
  },
  {
   "cell_type": "code",
   "execution_count": 19,
   "id": "75a34409-4ee2-4b6a-9266-bcdbed0fa069",
   "metadata": {},
   "outputs": [],
   "source": [
    "audio_features = load_data(\"audio_features\")"
   ]
  },
  {
   "cell_type": "code",
   "execution_count": 20,
   "id": "72e8140f",
   "metadata": {},
   "outputs": [
    {
     "name": "stdout",
     "output_type": "stream",
     "text": [
      "  track_id  danceability  energy  key  loudness  mode  speechiness  \\\n",
      "0     None           NaN     NaN  NaN       NaN   NaN          NaN   \n",
      "1     None           NaN     NaN  NaN       NaN   NaN          NaN   \n",
      "2     None           NaN     NaN  NaN       NaN   NaN          NaN   \n",
      "3     None           NaN     NaN  NaN       NaN   NaN          NaN   \n",
      "4     None           NaN     NaN  NaN       NaN   NaN          NaN   \n",
      "\n",
      "   acousticness  instrumentalness  liveness  valence  tempo  time_signature  \n",
      "0           NaN               NaN       NaN      NaN    NaN             NaN  \n",
      "1           NaN               NaN       NaN      NaN    NaN             NaN  \n",
      "2           NaN               NaN       NaN      NaN    NaN             NaN  \n",
      "3           NaN               NaN       NaN      NaN    NaN             NaN  \n",
      "4           NaN               NaN       NaN      NaN    NaN             NaN  \n"
     ]
    }
   ],
   "source": [
    "print(audio_features.head())"
   ]
  },
  {
   "cell_type": "code",
   "execution_count": 21,
   "id": "4fe8cd6e-6195-4be2-824f-2aa2d803a98e",
   "metadata": {},
   "outputs": [
    {
     "data": {
      "text/html": [
       "<div>\n",
       "<style scoped>\n",
       "    .dataframe tbody tr th:only-of-type {\n",
       "        vertical-align: middle;\n",
       "    }\n",
       "\n",
       "    .dataframe tbody tr th {\n",
       "        vertical-align: top;\n",
       "    }\n",
       "\n",
       "    .dataframe thead th {\n",
       "        text-align: right;\n",
       "    }\n",
       "</style>\n",
       "<table border=\"1\" class=\"dataframe\">\n",
       "  <thead>\n",
       "    <tr style=\"text-align: right;\">\n",
       "      <th></th>\n",
       "      <th>track_id</th>\n",
       "      <th>danceability</th>\n",
       "      <th>energy</th>\n",
       "      <th>key</th>\n",
       "      <th>loudness</th>\n",
       "      <th>mode</th>\n",
       "      <th>speechiness</th>\n",
       "      <th>acousticness</th>\n",
       "      <th>instrumentalness</th>\n",
       "      <th>liveness</th>\n",
       "      <th>valence</th>\n",
       "      <th>tempo</th>\n",
       "      <th>time_signature</th>\n",
       "    </tr>\n",
       "  </thead>\n",
       "  <tbody>\n",
       "    <tr>\n",
       "      <th>10692</th>\n",
       "      <td>1psC5iHzQxaTMZ5dWGfM6I</td>\n",
       "      <td>0.887</td>\n",
       "      <td>0.568</td>\n",
       "      <td>2.0</td>\n",
       "      <td>-5.853</td>\n",
       "      <td>1.0</td>\n",
       "      <td>0.3230</td>\n",
       "      <td>0.00171</td>\n",
       "      <td>0.000011</td>\n",
       "      <td>0.0812</td>\n",
       "      <td>0.754</td>\n",
       "      <td>162.038</td>\n",
       "      <td>4.0</td>\n",
       "    </tr>\n",
       "    <tr>\n",
       "      <th>4934</th>\n",
       "      <td>2ENexcMEMsYk0rVJigVD3i</td>\n",
       "      <td>0.789</td>\n",
       "      <td>0.706</td>\n",
       "      <td>11.0</td>\n",
       "      <td>-4.233</td>\n",
       "      <td>0.0</td>\n",
       "      <td>0.0429</td>\n",
       "      <td>0.11200</td>\n",
       "      <td>0.000017</td>\n",
       "      <td>0.0586</td>\n",
       "      <td>0.638</td>\n",
       "      <td>125.918</td>\n",
       "      <td>4.0</td>\n",
       "    </tr>\n",
       "    <tr>\n",
       "      <th>4057</th>\n",
       "      <td>50wkDxcIfamIajKwmgp0iB</td>\n",
       "      <td>0.843</td>\n",
       "      <td>0.549</td>\n",
       "      <td>8.0</td>\n",
       "      <td>-7.699</td>\n",
       "      <td>1.0</td>\n",
       "      <td>0.4610</td>\n",
       "      <td>0.01940</td>\n",
       "      <td>0.000000</td>\n",
       "      <td>0.3740</td>\n",
       "      <td>0.448</td>\n",
       "      <td>159.106</td>\n",
       "      <td>4.0</td>\n",
       "    </tr>\n",
       "    <tr>\n",
       "      <th>9548</th>\n",
       "      <td>104buTcnP2AsxqB7U1FIZ4</td>\n",
       "      <td>0.590</td>\n",
       "      <td>0.671</td>\n",
       "      <td>9.0</td>\n",
       "      <td>-6.098</td>\n",
       "      <td>1.0</td>\n",
       "      <td>0.0706</td>\n",
       "      <td>0.04840</td>\n",
       "      <td>0.000000</td>\n",
       "      <td>0.0604</td>\n",
       "      <td>0.438</td>\n",
       "      <td>149.982</td>\n",
       "      <td>4.0</td>\n",
       "    </tr>\n",
       "    <tr>\n",
       "      <th>1260</th>\n",
       "      <td>0UFDKFqW2oGspYeYqo9wjA</td>\n",
       "      <td>0.541</td>\n",
       "      <td>0.969</td>\n",
       "      <td>11.0</td>\n",
       "      <td>-3.439</td>\n",
       "      <td>1.0</td>\n",
       "      <td>0.0458</td>\n",
       "      <td>0.11300</td>\n",
       "      <td>0.000000</td>\n",
       "      <td>0.6380</td>\n",
       "      <td>0.599</td>\n",
       "      <td>140.119</td>\n",
       "      <td>4.0</td>\n",
       "    </tr>\n",
       "    <tr>\n",
       "      <th>4322</th>\n",
       "      <td>2OqYarizUUGzSSNHPrDEii</td>\n",
       "      <td>0.700</td>\n",
       "      <td>0.518</td>\n",
       "      <td>4.0</td>\n",
       "      <td>-7.191</td>\n",
       "      <td>0.0</td>\n",
       "      <td>0.1770</td>\n",
       "      <td>0.04710</td>\n",
       "      <td>0.000000</td>\n",
       "      <td>0.1000</td>\n",
       "      <td>0.542</td>\n",
       "      <td>75.973</td>\n",
       "      <td>4.0</td>\n",
       "    </tr>\n",
       "    <tr>\n",
       "      <th>7541</th>\n",
       "      <td>0ROE31C8Wu4neZoR9stM9e</td>\n",
       "      <td>0.859</td>\n",
       "      <td>0.477</td>\n",
       "      <td>1.0</td>\n",
       "      <td>-6.116</td>\n",
       "      <td>1.0</td>\n",
       "      <td>0.4280</td>\n",
       "      <td>0.00414</td>\n",
       "      <td>0.000000</td>\n",
       "      <td>0.0819</td>\n",
       "      <td>0.153</td>\n",
       "      <td>145.979</td>\n",
       "      <td>4.0</td>\n",
       "    </tr>\n",
       "    <tr>\n",
       "      <th>8955</th>\n",
       "      <td>4NioO5R9sHEZh4cGzMHyNt</td>\n",
       "      <td>0.632</td>\n",
       "      <td>0.539</td>\n",
       "      <td>4.0</td>\n",
       "      <td>-8.375</td>\n",
       "      <td>1.0</td>\n",
       "      <td>0.0342</td>\n",
       "      <td>0.06840</td>\n",
       "      <td>0.000006</td>\n",
       "      <td>0.1320</td>\n",
       "      <td>0.186</td>\n",
       "      <td>109.962</td>\n",
       "      <td>4.0</td>\n",
       "    </tr>\n",
       "    <tr>\n",
       "      <th>8497</th>\n",
       "      <td>5ygp81TQpolYKghQjdYZpD</td>\n",
       "      <td>0.456</td>\n",
       "      <td>0.865</td>\n",
       "      <td>1.0</td>\n",
       "      <td>-4.227</td>\n",
       "      <td>1.0</td>\n",
       "      <td>0.0316</td>\n",
       "      <td>0.08430</td>\n",
       "      <td>0.000512</td>\n",
       "      <td>0.1080</td>\n",
       "      <td>0.363</td>\n",
       "      <td>151.978</td>\n",
       "      <td>4.0</td>\n",
       "    </tr>\n",
       "    <tr>\n",
       "      <th>10133</th>\n",
       "      <td>7LpMG3AEaIJgs62HQhAa91</td>\n",
       "      <td>0.548</td>\n",
       "      <td>0.735</td>\n",
       "      <td>11.0</td>\n",
       "      <td>-7.572</td>\n",
       "      <td>1.0</td>\n",
       "      <td>0.2360</td>\n",
       "      <td>0.17300</td>\n",
       "      <td>0.000000</td>\n",
       "      <td>0.1950</td>\n",
       "      <td>0.498</td>\n",
       "      <td>101.252</td>\n",
       "      <td>4.0</td>\n",
       "    </tr>\n",
       "  </tbody>\n",
       "</table>\n",
       "</div>"
      ],
      "text/plain": [
       "                     track_id  danceability  energy   key  loudness  mode  \\\n",
       "10692  1psC5iHzQxaTMZ5dWGfM6I         0.887   0.568   2.0    -5.853   1.0   \n",
       "4934   2ENexcMEMsYk0rVJigVD3i         0.789   0.706  11.0    -4.233   0.0   \n",
       "4057   50wkDxcIfamIajKwmgp0iB         0.843   0.549   8.0    -7.699   1.0   \n",
       "9548   104buTcnP2AsxqB7U1FIZ4         0.590   0.671   9.0    -6.098   1.0   \n",
       "1260   0UFDKFqW2oGspYeYqo9wjA         0.541   0.969  11.0    -3.439   1.0   \n",
       "4322   2OqYarizUUGzSSNHPrDEii         0.700   0.518   4.0    -7.191   0.0   \n",
       "7541   0ROE31C8Wu4neZoR9stM9e         0.859   0.477   1.0    -6.116   1.0   \n",
       "8955   4NioO5R9sHEZh4cGzMHyNt         0.632   0.539   4.0    -8.375   1.0   \n",
       "8497   5ygp81TQpolYKghQjdYZpD         0.456   0.865   1.0    -4.227   1.0   \n",
       "10133  7LpMG3AEaIJgs62HQhAa91         0.548   0.735  11.0    -7.572   1.0   \n",
       "\n",
       "       speechiness  acousticness  instrumentalness  liveness  valence  \\\n",
       "10692       0.3230       0.00171          0.000011    0.0812    0.754   \n",
       "4934        0.0429       0.11200          0.000017    0.0586    0.638   \n",
       "4057        0.4610       0.01940          0.000000    0.3740    0.448   \n",
       "9548        0.0706       0.04840          0.000000    0.0604    0.438   \n",
       "1260        0.0458       0.11300          0.000000    0.6380    0.599   \n",
       "4322        0.1770       0.04710          0.000000    0.1000    0.542   \n",
       "7541        0.4280       0.00414          0.000000    0.0819    0.153   \n",
       "8955        0.0342       0.06840          0.000006    0.1320    0.186   \n",
       "8497        0.0316       0.08430          0.000512    0.1080    0.363   \n",
       "10133       0.2360       0.17300          0.000000    0.1950    0.498   \n",
       "\n",
       "         tempo  time_signature  \n",
       "10692  162.038             4.0  \n",
       "4934   125.918             4.0  \n",
       "4057   159.106             4.0  \n",
       "9548   149.982             4.0  \n",
       "1260   140.119             4.0  \n",
       "4322    75.973             4.0  \n",
       "7541   145.979             4.0  \n",
       "8955   109.962             4.0  \n",
       "8497   151.978             4.0  \n",
       "10133  101.252             4.0  "
      ]
     },
     "execution_count": 21,
     "metadata": {},
     "output_type": "execute_result"
    }
   ],
   "source": [
    "audio_features.sample(10)"
   ]
  },
  {
   "cell_type": "markdown",
   "id": "185c4e9c",
   "metadata": {},
   "source": [
    "# Checking and cleaning data"
   ]
  },
  {
   "cell_type": "code",
   "execution_count": 4,
   "id": "8896ff33",
   "metadata": {},
   "outputs": [
    {
     "name": "stderr",
     "output_type": "stream",
     "text": [
      "\n",
      "A module that was compiled using NumPy 1.x cannot be run in\n",
      "NumPy 2.2.1 as it may crash. To support both 1.x and 2.x\n",
      "versions of NumPy, modules must be compiled with NumPy 2.0.\n",
      "Some module may need to rebuild instead e.g. with 'pybind11>=2.12'.\n",
      "\n",
      "If you are a user of the module, the easiest solution will be to\n",
      "downgrade to 'numpy<2' or try to upgrade the affected module.\n",
      "We expect that some modules will need time to support NumPy 2.\n",
      "\n",
      "Traceback (most recent call last):  File \"<frozen runpy>\", line 198, in _run_module_as_main\n",
      "  File \"<frozen runpy>\", line 88, in _run_code\n",
      "  File \"/opt/anaconda3/lib/python3.12/site-packages/ipykernel_launcher.py\", line 17, in <module>\n",
      "    app.launch_new_instance()\n",
      "  File \"/opt/anaconda3/lib/python3.12/site-packages/traitlets/config/application.py\", line 1075, in launch_instance\n",
      "    app.start()\n",
      "  File \"/opt/anaconda3/lib/python3.12/site-packages/ipykernel/kernelapp.py\", line 701, in start\n",
      "    self.io_loop.start()\n",
      "  File \"/opt/anaconda3/lib/python3.12/site-packages/tornado/platform/asyncio.py\", line 205, in start\n",
      "    self.asyncio_loop.run_forever()\n",
      "  File \"/opt/anaconda3/lib/python3.12/asyncio/base_events.py\", line 641, in run_forever\n",
      "    self._run_once()\n",
      "  File \"/opt/anaconda3/lib/python3.12/asyncio/base_events.py\", line 1986, in _run_once\n",
      "    handle._run()\n",
      "  File \"/opt/anaconda3/lib/python3.12/asyncio/events.py\", line 88, in _run\n",
      "    self._context.run(self._callback, *self._args)\n",
      "  File \"/opt/anaconda3/lib/python3.12/site-packages/ipykernel/kernelbase.py\", line 534, in dispatch_queue\n",
      "    await self.process_one()\n",
      "  File \"/opt/anaconda3/lib/python3.12/site-packages/ipykernel/kernelbase.py\", line 523, in process_one\n",
      "    await dispatch(*args)\n",
      "  File \"/opt/anaconda3/lib/python3.12/site-packages/ipykernel/kernelbase.py\", line 429, in dispatch_shell\n",
      "    await result\n",
      "  File \"/opt/anaconda3/lib/python3.12/site-packages/ipykernel/kernelbase.py\", line 767, in execute_request\n",
      "    reply_content = await reply_content\n",
      "  File \"/opt/anaconda3/lib/python3.12/site-packages/ipykernel/ipkernel.py\", line 429, in do_execute\n",
      "    res = shell.run_cell(\n",
      "  File \"/opt/anaconda3/lib/python3.12/site-packages/ipykernel/zmqshell.py\", line 549, in run_cell\n",
      "    return super().run_cell(*args, **kwargs)\n",
      "  File \"/opt/anaconda3/lib/python3.12/site-packages/IPython/core/interactiveshell.py\", line 3075, in run_cell\n",
      "    result = self._run_cell(\n",
      "  File \"/opt/anaconda3/lib/python3.12/site-packages/IPython/core/interactiveshell.py\", line 3130, in _run_cell\n",
      "    result = runner(coro)\n",
      "  File \"/opt/anaconda3/lib/python3.12/site-packages/IPython/core/async_helpers.py\", line 128, in _pseudo_sync_runner\n",
      "    coro.send(None)\n",
      "  File \"/opt/anaconda3/lib/python3.12/site-packages/IPython/core/interactiveshell.py\", line 3334, in run_cell_async\n",
      "    has_raised = await self.run_ast_nodes(code_ast.body, cell_name,\n",
      "  File \"/opt/anaconda3/lib/python3.12/site-packages/IPython/core/interactiveshell.py\", line 3517, in run_ast_nodes\n",
      "    if await self.run_code(code, result, async_=asy):\n",
      "  File \"/opt/anaconda3/lib/python3.12/site-packages/IPython/core/interactiveshell.py\", line 3577, in run_code\n",
      "    exec(code_obj, self.user_global_ns, self.user_ns)\n",
      "  File \"/var/folders/0c/74sv2ttx50gfjtn0k1xmc7pc0000gn/T/ipykernel_47824/2741196273.py\", line 2, in <module>\n",
      "    import pandas as pd\n",
      "  File \"/opt/anaconda3/lib/python3.12/site-packages/pandas/__init__.py\", line 49, in <module>\n",
      "    from pandas.core.api import (\n",
      "  File \"/opt/anaconda3/lib/python3.12/site-packages/pandas/core/api.py\", line 28, in <module>\n",
      "    from pandas.core.arrays import Categorical\n",
      "  File \"/opt/anaconda3/lib/python3.12/site-packages/pandas/core/arrays/__init__.py\", line 1, in <module>\n",
      "    from pandas.core.arrays.arrow import ArrowExtensionArray\n",
      "  File \"/opt/anaconda3/lib/python3.12/site-packages/pandas/core/arrays/arrow/__init__.py\", line 5, in <module>\n",
      "    from pandas.core.arrays.arrow.array import ArrowExtensionArray\n",
      "  File \"/opt/anaconda3/lib/python3.12/site-packages/pandas/core/arrays/arrow/array.py\", line 50, in <module>\n",
      "    from pandas.core import (\n",
      "  File \"/opt/anaconda3/lib/python3.12/site-packages/pandas/core/ops/__init__.py\", line 8, in <module>\n",
      "    from pandas.core.ops.array_ops import (\n",
      "  File \"/opt/anaconda3/lib/python3.12/site-packages/pandas/core/ops/array_ops.py\", line 56, in <module>\n",
      "    from pandas.core.computation import expressions\n",
      "  File \"/opt/anaconda3/lib/python3.12/site-packages/pandas/core/computation/expressions.py\", line 21, in <module>\n",
      "    from pandas.core.computation.check import NUMEXPR_INSTALLED\n",
      "  File \"/opt/anaconda3/lib/python3.12/site-packages/pandas/core/computation/check.py\", line 5, in <module>\n",
      "    ne = import_optional_dependency(\"numexpr\", errors=\"warn\")\n",
      "  File \"/opt/anaconda3/lib/python3.12/site-packages/pandas/compat/_optional.py\", line 135, in import_optional_dependency\n",
      "    module = importlib.import_module(name)\n",
      "  File \"/opt/anaconda3/lib/python3.12/importlib/__init__.py\", line 90, in import_module\n",
      "    return _bootstrap._gcd_import(name[level:], package, level)\n",
      "  File \"/opt/anaconda3/lib/python3.12/site-packages/numexpr/__init__.py\", line 24, in <module>\n",
      "    from numexpr.interpreter import MAX_THREADS, use_vml, __BLOCK_SIZE1__\n"
     ]
    },
    {
     "ename": "AttributeError",
     "evalue": "_ARRAY_API not found",
     "output_type": "error",
     "traceback": [
      "\u001b[0;31m---------------------------------------------------------------------------\u001b[0m",
      "\u001b[0;31mAttributeError\u001b[0m                            Traceback (most recent call last)",
      "\u001b[0;31mAttributeError\u001b[0m: _ARRAY_API not found"
     ]
    },
    {
     "name": "stderr",
     "output_type": "stream",
     "text": [
      "\n",
      "A module that was compiled using NumPy 1.x cannot be run in\n",
      "NumPy 2.2.1 as it may crash. To support both 1.x and 2.x\n",
      "versions of NumPy, modules must be compiled with NumPy 2.0.\n",
      "Some module may need to rebuild instead e.g. with 'pybind11>=2.12'.\n",
      "\n",
      "If you are a user of the module, the easiest solution will be to\n",
      "downgrade to 'numpy<2' or try to upgrade the affected module.\n",
      "We expect that some modules will need time to support NumPy 2.\n",
      "\n",
      "Traceback (most recent call last):  File \"<frozen runpy>\", line 198, in _run_module_as_main\n",
      "  File \"<frozen runpy>\", line 88, in _run_code\n",
      "  File \"/opt/anaconda3/lib/python3.12/site-packages/ipykernel_launcher.py\", line 17, in <module>\n",
      "    app.launch_new_instance()\n",
      "  File \"/opt/anaconda3/lib/python3.12/site-packages/traitlets/config/application.py\", line 1075, in launch_instance\n",
      "    app.start()\n",
      "  File \"/opt/anaconda3/lib/python3.12/site-packages/ipykernel/kernelapp.py\", line 701, in start\n",
      "    self.io_loop.start()\n",
      "  File \"/opt/anaconda3/lib/python3.12/site-packages/tornado/platform/asyncio.py\", line 205, in start\n",
      "    self.asyncio_loop.run_forever()\n",
      "  File \"/opt/anaconda3/lib/python3.12/asyncio/base_events.py\", line 641, in run_forever\n",
      "    self._run_once()\n",
      "  File \"/opt/anaconda3/lib/python3.12/asyncio/base_events.py\", line 1986, in _run_once\n",
      "    handle._run()\n",
      "  File \"/opt/anaconda3/lib/python3.12/asyncio/events.py\", line 88, in _run\n",
      "    self._context.run(self._callback, *self._args)\n",
      "  File \"/opt/anaconda3/lib/python3.12/site-packages/ipykernel/kernelbase.py\", line 534, in dispatch_queue\n",
      "    await self.process_one()\n",
      "  File \"/opt/anaconda3/lib/python3.12/site-packages/ipykernel/kernelbase.py\", line 523, in process_one\n",
      "    await dispatch(*args)\n",
      "  File \"/opt/anaconda3/lib/python3.12/site-packages/ipykernel/kernelbase.py\", line 429, in dispatch_shell\n",
      "    await result\n",
      "  File \"/opt/anaconda3/lib/python3.12/site-packages/ipykernel/kernelbase.py\", line 767, in execute_request\n",
      "    reply_content = await reply_content\n",
      "  File \"/opt/anaconda3/lib/python3.12/site-packages/ipykernel/ipkernel.py\", line 429, in do_execute\n",
      "    res = shell.run_cell(\n",
      "  File \"/opt/anaconda3/lib/python3.12/site-packages/ipykernel/zmqshell.py\", line 549, in run_cell\n",
      "    return super().run_cell(*args, **kwargs)\n",
      "  File \"/opt/anaconda3/lib/python3.12/site-packages/IPython/core/interactiveshell.py\", line 3075, in run_cell\n",
      "    result = self._run_cell(\n",
      "  File \"/opt/anaconda3/lib/python3.12/site-packages/IPython/core/interactiveshell.py\", line 3130, in _run_cell\n",
      "    result = runner(coro)\n",
      "  File \"/opt/anaconda3/lib/python3.12/site-packages/IPython/core/async_helpers.py\", line 128, in _pseudo_sync_runner\n",
      "    coro.send(None)\n",
      "  File \"/opt/anaconda3/lib/python3.12/site-packages/IPython/core/interactiveshell.py\", line 3334, in run_cell_async\n",
      "    has_raised = await self.run_ast_nodes(code_ast.body, cell_name,\n",
      "  File \"/opt/anaconda3/lib/python3.12/site-packages/IPython/core/interactiveshell.py\", line 3517, in run_ast_nodes\n",
      "    if await self.run_code(code, result, async_=asy):\n",
      "  File \"/opt/anaconda3/lib/python3.12/site-packages/IPython/core/interactiveshell.py\", line 3577, in run_code\n",
      "    exec(code_obj, self.user_global_ns, self.user_ns)\n",
      "  File \"/var/folders/0c/74sv2ttx50gfjtn0k1xmc7pc0000gn/T/ipykernel_47824/2741196273.py\", line 2, in <module>\n",
      "    import pandas as pd\n",
      "  File \"/opt/anaconda3/lib/python3.12/site-packages/pandas/__init__.py\", line 49, in <module>\n",
      "    from pandas.core.api import (\n",
      "  File \"/opt/anaconda3/lib/python3.12/site-packages/pandas/core/api.py\", line 28, in <module>\n",
      "    from pandas.core.arrays import Categorical\n",
      "  File \"/opt/anaconda3/lib/python3.12/site-packages/pandas/core/arrays/__init__.py\", line 1, in <module>\n",
      "    from pandas.core.arrays.arrow import ArrowExtensionArray\n",
      "  File \"/opt/anaconda3/lib/python3.12/site-packages/pandas/core/arrays/arrow/__init__.py\", line 5, in <module>\n",
      "    from pandas.core.arrays.arrow.array import ArrowExtensionArray\n",
      "  File \"/opt/anaconda3/lib/python3.12/site-packages/pandas/core/arrays/arrow/array.py\", line 64, in <module>\n",
      "    from pandas.core.arrays.masked import BaseMaskedArray\n",
      "  File \"/opt/anaconda3/lib/python3.12/site-packages/pandas/core/arrays/masked.py\", line 60, in <module>\n",
      "    from pandas.core import (\n",
      "  File \"/opt/anaconda3/lib/python3.12/site-packages/pandas/core/nanops.py\", line 52, in <module>\n",
      "    bn = import_optional_dependency(\"bottleneck\", errors=\"warn\")\n",
      "  File \"/opt/anaconda3/lib/python3.12/site-packages/pandas/compat/_optional.py\", line 135, in import_optional_dependency\n",
      "    module = importlib.import_module(name)\n",
      "  File \"/opt/anaconda3/lib/python3.12/importlib/__init__.py\", line 90, in import_module\n",
      "    return _bootstrap._gcd_import(name[level:], package, level)\n",
      "  File \"/opt/anaconda3/lib/python3.12/site-packages/bottleneck/__init__.py\", line 7, in <module>\n",
      "    from .move import (move_argmax, move_argmin, move_max, move_mean, move_median,\n"
     ]
    },
    {
     "ename": "ImportError",
     "evalue": "\nA module that was compiled using NumPy 1.x cannot be run in\nNumPy 2.2.1 as it may crash. To support both 1.x and 2.x\nversions of NumPy, modules must be compiled with NumPy 2.0.\nSome module may need to rebuild instead e.g. with 'pybind11>=2.12'.\n\nIf you are a user of the module, the easiest solution will be to\ndowngrade to 'numpy<2' or try to upgrade the affected module.\nWe expect that some modules will need time to support NumPy 2.\n\n",
     "output_type": "error",
     "traceback": [
      "\u001b[0;31m---------------------------------------------------------------------------\u001b[0m",
      "\u001b[0;31mImportError\u001b[0m                               Traceback (most recent call last)",
      "File \u001b[0;32m/opt/anaconda3/lib/python3.12/site-packages/numpy/core/_multiarray_umath.py:44\u001b[0m, in \u001b[0;36m__getattr__\u001b[0;34m(attr_name)\u001b[0m\n\u001b[1;32m     39\u001b[0m     \u001b[38;5;66;03m# Also print the message (with traceback).  This is because old versions\u001b[39;00m\n\u001b[1;32m     40\u001b[0m     \u001b[38;5;66;03m# of NumPy unfortunately set up the import to replace (and hide) the\u001b[39;00m\n\u001b[1;32m     41\u001b[0m     \u001b[38;5;66;03m# error.  The traceback shouldn't be needed, but e.g. pytest plugins\u001b[39;00m\n\u001b[1;32m     42\u001b[0m     \u001b[38;5;66;03m# seem to swallow it and we should be failing anyway...\u001b[39;00m\n\u001b[1;32m     43\u001b[0m     sys\u001b[38;5;241m.\u001b[39mstderr\u001b[38;5;241m.\u001b[39mwrite(msg \u001b[38;5;241m+\u001b[39m tb_msg)\n\u001b[0;32m---> 44\u001b[0m     \u001b[38;5;28;01mraise\u001b[39;00m \u001b[38;5;167;01mImportError\u001b[39;00m(msg)\n\u001b[1;32m     46\u001b[0m ret \u001b[38;5;241m=\u001b[39m \u001b[38;5;28mgetattr\u001b[39m(_multiarray_umath, attr_name, \u001b[38;5;28;01mNone\u001b[39;00m)\n\u001b[1;32m     47\u001b[0m \u001b[38;5;28;01mif\u001b[39;00m ret \u001b[38;5;129;01mis\u001b[39;00m \u001b[38;5;28;01mNone\u001b[39;00m:\n",
      "\u001b[0;31mImportError\u001b[0m: \nA module that was compiled using NumPy 1.x cannot be run in\nNumPy 2.2.1 as it may crash. To support both 1.x and 2.x\nversions of NumPy, modules must be compiled with NumPy 2.0.\nSome module may need to rebuild instead e.g. with 'pybind11>=2.12'.\n\nIf you are a user of the module, the easiest solution will be to\ndowngrade to 'numpy<2' or try to upgrade the affected module.\nWe expect that some modules will need time to support NumPy 2.\n\n"
     ]
    }
   ],
   "source": [
    "import streamlit as st\n",
    "import pandas as pd"
   ]
  },
  {
   "cell_type": "code",
   "execution_count": 5,
   "id": "6f2bcac1",
   "metadata": {},
   "outputs": [],
   "source": [
    "query = \"\"\"\n",
    "SELECT * \n",
    "FROM `da26-python.music_data.tracks`\n",
    "LIMIT 1000\n",
    "\"\"\""
   ]
  },
  {
   "cell_type": "code",
   "execution_count": 6,
   "id": "bbba17f8",
   "metadata": {},
   "outputs": [
    {
     "name": "stderr",
     "output_type": "stream",
     "text": [
      "2025-01-11 21:20:44.157 WARNING streamlit.runtime.scriptrunner_utils.script_run_context: Thread 'MainThread': missing ScriptRunContext! This warning can be ignored when running in bare mode.\n",
      "2025-01-11 21:20:44.264 \n",
      "  \u001b[33m\u001b[1mWarning:\u001b[0m to view this Streamlit app on a browser, run it with the following\n",
      "  command:\n",
      "\n",
      "    streamlit run /opt/anaconda3/lib/python3.12/site-packages/ipykernel_launcher.py [ARGUMENTS]\n",
      "2025-01-11 21:20:44.264 Thread 'MainThread': missing ScriptRunContext! This warning can be ignored when running in bare mode.\n",
      "2025-01-11 21:20:44.264 Thread 'MainThread': missing ScriptRunContext! This warning can be ignored when running in bare mode.\n",
      "2025-01-11 21:20:44.265 Thread 'MainThread': missing ScriptRunContext! This warning can be ignored when running in bare mode.\n"
     ]
    }
   ],
   "source": [
    "st.write(\"Fetching data from BigQuery...\")"
   ]
  },
  {
   "cell_type": "code",
   "execution_count": null,
   "id": "4102775a",
   "metadata": {},
   "outputs": [],
   "source": []
  }
 ],
 "metadata": {
  "kernelspec": {
   "display_name": "base",
   "language": "python",
   "name": "python3"
  },
  "language_info": {
   "codemirror_mode": {
    "name": "ipython",
    "version": 3
   },
   "file_extension": ".py",
   "mimetype": "text/x-python",
   "name": "python",
   "nbconvert_exporter": "python",
   "pygments_lexer": "ipython3",
   "version": "3.12.7"
  }
 },
 "nbformat": 4,
 "nbformat_minor": 5
}
